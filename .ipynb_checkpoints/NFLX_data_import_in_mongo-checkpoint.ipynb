{
 "cells": [
  {
   "cell_type": "code",
   "execution_count": 1,
   "metadata": {},
   "outputs": [],
   "source": [
    "from pandas_datareader import data as pdr\n",
    "import pandas as pd\n",
    "from pymongo import MongoClient\n",
    "import yfinance as yf\n",
    "yf.pdr_override()"
   ]
  },
  {
   "cell_type": "code",
   "execution_count": 2,
   "metadata": {},
   "outputs": [
    {
     "name": "stdout",
     "output_type": "stream",
     "text": [
      "[*********************100%***********************]  1 of 1 completed\n"
     ]
    }
   ],
   "source": [
    "\n",
    "data3 = pdr.DataReader('AMZN', data_source='yahoo', start='2015-01-01', end='2020-09-03')"
   ]
  },
  {
   "cell_type": "code",
   "execution_count": 3,
   "metadata": {},
   "outputs": [],
   "source": [
    "#Step 1: Connect to MongoDB - Note: Change connection string as needed\n",
    "myclient = MongoClient(\"mongodb://localhost:27017/\")\n",
    "mydb = myclient[\"finance\"]\n",
    "AMZN_col = mydb[\"AMZN\"]"
   ]
  },
  {
   "cell_type": "code",
   "execution_count": 5,
   "metadata": {},
   "outputs": [
    {
     "data": {
      "text/plain": [
       "<pymongo.results.InsertOneResult at 0x7f24b96189b0>"
      ]
     },
     "execution_count": 5,
     "metadata": {},
     "output_type": "execute_result"
    }
   ],
   "source": [
    "# Step 2: Insert Data into DB\n",
    "data3.reset_index(inplace=True) # Reset Index\n",
    "data_dict = data3.to_dict(\"records\") # Convert to dictionary\n",
    "AMZN_col.insert_one({\"index\":\"AMZN\",\"data\":data_dict}) # inesrt into DB\n",
    "#AAPL_col"
   ]
  },
  {
   "cell_type": "code",
   "execution_count": 6,
   "metadata": {},
   "outputs": [
    {
     "name": "stdout",
     "output_type": "stream",
     "text": [
      "                   Open         High          Low        Close    Adj Close  \\\n",
      "Date                                                                          \n",
      "2014-12-31   311.549988   312.980011   310.010010   310.350006   310.350006   \n",
      "2015-01-02   312.579987   314.750000   306.959991   308.519989   308.519989   \n",
      "2015-01-05   307.010010   308.380005   300.850006   302.190002   302.190002   \n",
      "2015-01-06   302.239990   303.000000   292.380005   295.290009   295.290009   \n",
      "2015-01-07   297.500000   301.279999   295.329987   298.420013   298.420013   \n",
      "...                 ...          ...          ...          ...          ...   \n",
      "2020-08-27  3450.050049  3453.000000  3378.000000  3400.000000  3400.000000   \n",
      "2020-08-28  3423.000000  3433.370117  3386.500000  3401.800049  3401.800049   \n",
      "2020-08-31  3408.989990  3495.000000  3405.000000  3450.959961  3450.959961   \n",
      "2020-09-01  3489.580078  3513.870117  3467.000000  3499.120117  3499.120117   \n",
      "2020-09-02  3547.000000  3552.250000  3486.689941  3531.449951  3531.449951   \n",
      "\n",
      "             Volume  \n",
      "Date                 \n",
      "2014-12-31  2048000  \n",
      "2015-01-02  2783200  \n",
      "2015-01-05  2774200  \n",
      "2015-01-06  3519000  \n",
      "2015-01-07  2640300  \n",
      "...             ...  \n",
      "2020-08-27  4264800  \n",
      "2020-08-28  2897000  \n",
      "2020-08-31  4185900  \n",
      "2020-09-01  3476400  \n",
      "2020-09-02  3931500  \n",
      "\n",
      "[1429 rows x 6 columns]\n"
     ]
    }
   ],
   "source": [
    "\n",
    "# Step 3: Get data from DB\n",
    "data_from_db = AMZN_col.find_one({\"index\":\"AMZN\"})\n",
    "output_dataframe = pd.DataFrame(data_from_db[\"data\"])\n",
    "output_dataframe.set_index(\"Date\",inplace=True)\n",
    "print(output_dataframe)\n"
   ]
  },
  {
   "cell_type": "code",
   "execution_count": null,
   "metadata": {},
   "outputs": [],
   "source": []
  },
  {
   "cell_type": "code",
   "execution_count": null,
   "metadata": {},
   "outputs": [],
   "source": []
  },
  {
   "cell_type": "code",
   "execution_count": null,
   "metadata": {},
   "outputs": [],
   "source": []
  },
  {
   "cell_type": "code",
   "execution_count": null,
   "metadata": {},
   "outputs": [],
   "source": []
  },
  {
   "cell_type": "code",
   "execution_count": null,
   "metadata": {},
   "outputs": [],
   "source": []
  },
  {
   "cell_type": "code",
   "execution_count": 7,
   "metadata": {},
   "outputs": [
    {
     "name": "stdout",
     "output_type": "stream",
     "text": [
      "Enter database name: finance\n",
      "AAPL\n",
      "MSFT\n",
      "AMZN\n"
     ]
    }
   ],
   "source": [
    "import pymongo\n",
    "\n",
    "myclient = pymongo.MongoClient(\"mongodb://localhost:27017/\")\n",
    "\n",
    "dbname = input(\"Enter database name: \")\n",
    "mydb = myclient[dbname]\n",
    "\n",
    "#list the collections\n",
    "for coll in mydb.list_collection_names():\n",
    "    print(coll)"
   ]
  },
  {
   "cell_type": "code",
   "execution_count": null,
   "metadata": {},
   "outputs": [],
   "source": []
  }
 ],
 "metadata": {
  "kernelspec": {
   "display_name": "Python 3",
   "language": "python",
   "name": "python3"
  },
  "language_info": {
   "codemirror_mode": {
    "name": "ipython",
    "version": 3
   },
   "file_extension": ".py",
   "mimetype": "text/x-python",
   "name": "python",
   "nbconvert_exporter": "python",
   "pygments_lexer": "ipython3",
   "version": "3.7.7"
  }
 },
 "nbformat": 4,
 "nbformat_minor": 4
}
