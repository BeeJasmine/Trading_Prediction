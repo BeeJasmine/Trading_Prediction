{
 "cells": [
  {
   "cell_type": "code",
   "execution_count": 2,
   "metadata": {},
   "outputs": [],
   "source": [
    "import math\n",
    "import pandas_datareader as web \n",
    "import numpy as np\n",
    "import pandas as pd\n",
    "from sklearn.preprocessing import MinMaxScaler\n",
    "from keras.models import Sequential\n",
    "from keras.layers import Dense, LSTM\n",
    "import matplotlib.pyplot as plt\n",
    "plt.style.use('fivethirtyeight') \n",
    "import datetime\n",
    "end = datetime.date.today()\n",
    "\n",
    "df = web.DataReader('MSFT', data_source='yahoo', start='2015-01-01', end=end)"
   ]
  },
  {
   "cell_type": "code",
   "execution_count": 3,
   "metadata": {},
   "outputs": [
    {
     "data": {
      "text/html": [
       "<div>\n",
       "<style scoped>\n",
       "    .dataframe tbody tr th:only-of-type {\n",
       "        vertical-align: middle;\n",
       "    }\n",
       "\n",
       "    .dataframe tbody tr th {\n",
       "        vertical-align: top;\n",
       "    }\n",
       "\n",
       "    .dataframe thead th {\n",
       "        text-align: right;\n",
       "    }\n",
       "</style>\n",
       "<table border=\"1\" class=\"dataframe\">\n",
       "  <thead>\n",
       "    <tr style=\"text-align: right;\">\n",
       "      <th></th>\n",
       "      <th>High</th>\n",
       "      <th>Low</th>\n",
       "      <th>Open</th>\n",
       "      <th>Close</th>\n",
       "      <th>Volume</th>\n",
       "      <th>Adj Close</th>\n",
       "    </tr>\n",
       "    <tr>\n",
       "      <th>Date</th>\n",
       "      <th></th>\n",
       "      <th></th>\n",
       "      <th></th>\n",
       "      <th></th>\n",
       "      <th></th>\n",
       "      <th></th>\n",
       "    </tr>\n",
       "  </thead>\n",
       "  <tbody>\n",
       "    <tr>\n",
       "      <th>2015-01-02</th>\n",
       "      <td>47.419998</td>\n",
       "      <td>46.540001</td>\n",
       "      <td>46.660000</td>\n",
       "      <td>46.759998</td>\n",
       "      <td>27913900.0</td>\n",
       "      <td>41.647892</td>\n",
       "    </tr>\n",
       "    <tr>\n",
       "      <th>2015-01-05</th>\n",
       "      <td>46.730000</td>\n",
       "      <td>46.250000</td>\n",
       "      <td>46.369999</td>\n",
       "      <td>46.330002</td>\n",
       "      <td>39673900.0</td>\n",
       "      <td>41.264908</td>\n",
       "    </tr>\n",
       "    <tr>\n",
       "      <th>2015-01-06</th>\n",
       "      <td>46.750000</td>\n",
       "      <td>45.540001</td>\n",
       "      <td>46.380001</td>\n",
       "      <td>45.650002</td>\n",
       "      <td>36447900.0</td>\n",
       "      <td>40.659245</td>\n",
       "    </tr>\n",
       "    <tr>\n",
       "      <th>2015-01-07</th>\n",
       "      <td>46.459999</td>\n",
       "      <td>45.490002</td>\n",
       "      <td>45.980000</td>\n",
       "      <td>46.230000</td>\n",
       "      <td>29114100.0</td>\n",
       "      <td>41.175831</td>\n",
       "    </tr>\n",
       "    <tr>\n",
       "      <th>2015-01-08</th>\n",
       "      <td>47.750000</td>\n",
       "      <td>46.720001</td>\n",
       "      <td>46.750000</td>\n",
       "      <td>47.590000</td>\n",
       "      <td>29645200.0</td>\n",
       "      <td>42.387146</td>\n",
       "    </tr>\n",
       "    <tr>\n",
       "      <th>...</th>\n",
       "      <td>...</td>\n",
       "      <td>...</td>\n",
       "      <td>...</td>\n",
       "      <td>...</td>\n",
       "      <td>...</td>\n",
       "      <td>...</td>\n",
       "    </tr>\n",
       "    <tr>\n",
       "      <th>2020-09-18</th>\n",
       "      <td>203.649994</td>\n",
       "      <td>196.250000</td>\n",
       "      <td>202.800003</td>\n",
       "      <td>200.389999</td>\n",
       "      <td>55225300.0</td>\n",
       "      <td>200.389999</td>\n",
       "    </tr>\n",
       "    <tr>\n",
       "      <th>2020-09-21</th>\n",
       "      <td>202.710007</td>\n",
       "      <td>196.380005</td>\n",
       "      <td>197.190002</td>\n",
       "      <td>202.539993</td>\n",
       "      <td>39839700.0</td>\n",
       "      <td>202.539993</td>\n",
       "    </tr>\n",
       "    <tr>\n",
       "      <th>2020-09-22</th>\n",
       "      <td>208.100006</td>\n",
       "      <td>202.080002</td>\n",
       "      <td>205.059998</td>\n",
       "      <td>207.419998</td>\n",
       "      <td>33517100.0</td>\n",
       "      <td>207.419998</td>\n",
       "    </tr>\n",
       "    <tr>\n",
       "      <th>2020-09-23</th>\n",
       "      <td>208.100006</td>\n",
       "      <td>200.029999</td>\n",
       "      <td>207.899994</td>\n",
       "      <td>200.589996</td>\n",
       "      <td>30729700.0</td>\n",
       "      <td>200.589996</td>\n",
       "    </tr>\n",
       "    <tr>\n",
       "      <th>2020-09-24</th>\n",
       "      <td>204.470001</td>\n",
       "      <td>199.199997</td>\n",
       "      <td>199.850006</td>\n",
       "      <td>202.210007</td>\n",
       "      <td>8109599.0</td>\n",
       "      <td>202.210007</td>\n",
       "    </tr>\n",
       "  </tbody>\n",
       "</table>\n",
       "<p>1443 rows × 6 columns</p>\n",
       "</div>"
      ],
      "text/plain": [
       "                  High         Low        Open       Close      Volume  \\\n",
       "Date                                                                     \n",
       "2015-01-02   47.419998   46.540001   46.660000   46.759998  27913900.0   \n",
       "2015-01-05   46.730000   46.250000   46.369999   46.330002  39673900.0   \n",
       "2015-01-06   46.750000   45.540001   46.380001   45.650002  36447900.0   \n",
       "2015-01-07   46.459999   45.490002   45.980000   46.230000  29114100.0   \n",
       "2015-01-08   47.750000   46.720001   46.750000   47.590000  29645200.0   \n",
       "...                ...         ...         ...         ...         ...   \n",
       "2020-09-18  203.649994  196.250000  202.800003  200.389999  55225300.0   \n",
       "2020-09-21  202.710007  196.380005  197.190002  202.539993  39839700.0   \n",
       "2020-09-22  208.100006  202.080002  205.059998  207.419998  33517100.0   \n",
       "2020-09-23  208.100006  200.029999  207.899994  200.589996  30729700.0   \n",
       "2020-09-24  204.470001  199.199997  199.850006  202.210007   8109599.0   \n",
       "\n",
       "             Adj Close  \n",
       "Date                    \n",
       "2015-01-02   41.647892  \n",
       "2015-01-05   41.264908  \n",
       "2015-01-06   40.659245  \n",
       "2015-01-07   41.175831  \n",
       "2015-01-08   42.387146  \n",
       "...                ...  \n",
       "2020-09-18  200.389999  \n",
       "2020-09-21  202.539993  \n",
       "2020-09-22  207.419998  \n",
       "2020-09-23  200.589996  \n",
       "2020-09-24  202.210007  \n",
       "\n",
       "[1443 rows x 6 columns]"
      ]
     },
     "execution_count": 3,
     "metadata": {},
     "output_type": "execute_result"
    }
   ],
   "source": [
    "df"
   ]
  },
  {
   "cell_type": "code",
   "execution_count": 4,
   "metadata": {},
   "outputs": [
    {
     "data": {
      "text/plain": [
       "(1443, 6)"
      ]
     },
     "execution_count": 4,
     "metadata": {},
     "output_type": "execute_result"
    }
   ],
   "source": [
    "#get number of rows & columns\n",
    "df.shape"
   ]
  },
  {
   "cell_type": "code",
   "execution_count": 5,
   "metadata": {},
   "outputs": [
    {
     "data": {
      "image/png": "[encoded data removed]",
      "text/plain": [
       "<Figure size 1152x576 with 1 Axes>"
      ]
     },
     "metadata": {},
     "output_type": "display_data"
    }
   ],
   "source": [
    "#visualize\n",
    "plt.figure(figsize=(16,8))\n",
    "plt.title('Close Price History')\n",
    "plt.plot(df['Close'])\n",
    "plt.xlabel('Date', fontsize=18)\n",
    "plt.ylabel('Close Price USD ($)', fontsize=18)\n",
    "plt.show()"
   ]
  },
  {
   "cell_type": "code",
   "execution_count": 6,
   "metadata": {},
   "outputs": [
    {
     "data": {
      "text/plain": [
       "1155"
      ]
     },
     "execution_count": 6,
     "metadata": {},
     "output_type": "execute_result"
    }
   ],
   "source": [
    "#new df with df[close]\n",
    "close_data = df.filter(['Close'])\n",
    "\n",
    "#convert to np array\n",
    "close_dataset=close_data.values\n",
    "\n",
    "#number of rows to train model on\n",
    "training_data_len = math.ceil(len(close_dataset) * .8) #pour entrainer sur 80% de notre data\n",
    "\n",
    "training_data_len"
   ]
  },
  {
   "cell_type": "code",
   "execution_count": 7,
   "metadata": {},
   "outputs": [
    {
     "data": {
      "text/plain": [
       "array([[0.03381061],\n",
       "       [0.03156355],\n",
       "       [0.02801004],\n",
       "       ...,\n",
       "       [0.87338003],\n",
       "       [0.83768813],\n",
       "       [0.84615391]])"
      ]
     },
     "execution_count": 7,
     "metadata": {},
     "output_type": "execute_result"
    }
   ],
   "source": [
    "#data scaling\n",
    "scaler = MinMaxScaler(feature_range=(0,1))\n",
    "scaled_close_data = scaler.fit_transform(close_dataset)\n",
    "\n",
    "scaled_close_data"
   ]
  },
  {
   "cell_type": "code",
   "execution_count": 8,
   "metadata": {},
   "outputs": [
    {
     "name": "stdout",
     "output_type": "stream",
     "text": [
      "[array([0.03381061, 0.03156355, 0.02801004, 0.03104096, 0.03814799,\n",
      "       0.03605768, 0.03297449, 0.03172032, 0.02963001, 0.02712165,\n",
      "       0.03109323, 0.03187708, 0.02942097, 0.03574415, 0.03600543,\n",
      "       0.03511704, 0.01238503, 0.00470317, 0.00898828, 0.00057484,\n",
      "       0.00517348, 0.00684572, 0.00809991, 0.01128763, 0.01107859,\n",
      "       0.01081731, 0.01207148, 0.01092182, 0.0146321 , 0.01870818,\n",
      "       0.01719273, 0.01693143, 0.01677466, 0.01865594, 0.02017141,\n",
      "       0.01985786, 0.01933529, 0.01970109, 0.01860367, 0.01876045,\n",
      "       0.01562499, 0.01447534, 0.01473662, 0.01081731, 0.01337791,\n",
      "       0.0090928 , 0.00883151, 0.0038148 , 0.00569607, 0.00663671,\n",
      "       0.00736831, 0.01154891, 0.01045151, 0.0135347 , 0.01343018,\n",
      "       0.01363922, 0.00611412, 0.00480768, 0.00355351, 0.00350124])]\n",
      "[0.0019335229173089719]\n",
      "\n",
      "[array([0.03381061, 0.03156355, 0.02801004, 0.03104096, 0.03814799,\n",
      "       0.03605768, 0.03297449, 0.03172032, 0.02963001, 0.02712165,\n",
      "       0.03109323, 0.03187708, 0.02942097, 0.03574415, 0.03600543,\n",
      "       0.03511704, 0.01238503, 0.00470317, 0.00898828, 0.00057484,\n",
      "       0.00517348, 0.00684572, 0.00809991, 0.01128763, 0.01107859,\n",
      "       0.01081731, 0.01207148, 0.01092182, 0.0146321 , 0.01870818,\n",
      "       0.01719273, 0.01693143, 0.01677466, 0.01865594, 0.02017141,\n",
      "       0.01985786, 0.01933529, 0.01970109, 0.01860367, 0.01876045,\n",
      "       0.01562499, 0.01447534, 0.01473662, 0.01081731, 0.01337791,\n",
      "       0.0090928 , 0.00883151, 0.0038148 , 0.00569607, 0.00663671,\n",
      "       0.00736831, 0.01154891, 0.01045151, 0.0135347 , 0.01343018,\n",
      "       0.01363922, 0.00611412, 0.00480768, 0.00355351, 0.00350124]), array([0.03156355, 0.02801004, 0.03104096, 0.03814799, 0.03605768,\n",
      "       0.03297449, 0.03172032, 0.02963001, 0.02712165, 0.03109323,\n",
      "       0.03187708, 0.02942097, 0.03574415, 0.03600543, 0.03511704,\n",
      "       0.01238503, 0.00470317, 0.00898828, 0.00057484, 0.00517348,\n",
      "       0.00684572, 0.00809991, 0.01128763, 0.01107859, 0.01081731,\n",
      "       0.01207148, 0.01092182, 0.0146321 , 0.01870818, 0.01719273,\n",
      "       0.01693143, 0.01677466, 0.01865594, 0.02017141, 0.01985786,\n",
      "       0.01933529, 0.01970109, 0.01860367, 0.01876045, 0.01562499,\n",
      "       0.01447534, 0.01473662, 0.01081731, 0.01337791, 0.0090928 ,\n",
      "       0.00883151, 0.0038148 , 0.00569607, 0.00663671, 0.00736831,\n",
      "       0.01154891, 0.01045151, 0.0135347 , 0.01343018, 0.01363922,\n",
      "       0.00611412, 0.00480768, 0.00355351, 0.00350124, 0.00193352])]\n",
      "[0.0019335229173089719, 0.0022470752557906537]\n",
      "\n"
     ]
    }
   ],
   "source": [
    "# create scaled training dataset\n",
    "train_close_data = scaled_close_data[0:training_data_len, :]\n",
    "\n",
    "#split the data into x_train and y_train sets\n",
    "x_train = []\n",
    "y_train = []\n",
    "\n",
    "for i in range(60, len(train_close_data)):\n",
    "    x_train.append(train_close_data[i-60:i, 0])\n",
    "    y_train.append(train_close_data[i,0]) #60 values from index 0 to 59\n",
    "    \n",
    "    if i <= 61:\n",
    "        print(x_train)\n",
    "        print(y_train)\n",
    "        print()"
   ]
  },
  {
   "cell_type": "code",
   "execution_count": 9,
   "metadata": {},
   "outputs": [],
   "source": [
    "#utiliser un réseau de neurones récurrent pour prdéire le cours de la bourse #supervised DL"
   ]
  },
  {
   "cell_type": "code",
   "execution_count": 10,
   "metadata": {},
   "outputs": [],
   "source": [
    "#converting x_train and y_train into np arrays\n",
    "x_train, y_train = np.array(x_train), np.array(y_train)"
   ]
  },
  {
   "cell_type": "code",
   "execution_count": 11,
   "metadata": {},
   "outputs": [
    {
     "data": {
      "text/plain": [
       "(1095, 60)"
      ]
     },
     "execution_count": 11,
     "metadata": {},
     "output_type": "execute_result"
    }
   ],
   "source": [
    "x_train.shape\n",
    "#x_train.shape[0] for 1st value"
   ]
  },
  {
   "cell_type": "code",
   "execution_count": 12,
   "metadata": {},
   "outputs": [
    {
     "data": {
      "text/plain": [
       "(1095, 60, 1)"
      ]
     },
     "execution_count": 12,
     "metadata": {},
     "output_type": "execute_result"
    }
   ],
   "source": [
    "#reshaping the data\n",
    "x_train = np.reshape(x_train, (x_train.shape[0], x_train.shape[1], 1)) #x_train.shape == 60\n",
    "x_train.shape\n",
    "#y_train = np.reshape(y_train, ())"
   ]
  },
  {
   "cell_type": "code",
   "execution_count": 13,
   "metadata": {},
   "outputs": [],
   "source": [
    "#build the LSTM model\n",
    "\n",
    "model = Sequential()\n",
    "#50 nerons\n",
    "model.add(LSTM(50, return_sequences=True, input_shape= (x_train.shape[1], 1)))\n",
    "model.add(LSTM(50, return_sequences=False))\n",
    "#25neurons\n",
    "model.add(Dense(25))\n",
    "model.add(Dense(1))"
   ]
  },
  {
   "cell_type": "code",
   "execution_count": 14,
   "metadata": {},
   "outputs": [],
   "source": [
    "#compile th model\n",
    "model.compile(optimizer='adam', loss='mean_squared_error')"
   ]
  },
  {
   "cell_type": "code",
   "execution_count": 15,
   "metadata": {},
   "outputs": [
    {
     "name": "stdout",
     "output_type": "stream",
     "text": [
      "1095/1095 [==============================] - 22s 20ms/step - loss: 5.2227e-04\n"
     ]
    },
    {
     "data": {
      "text/plain": [
       "<tensorflow.python.keras.callbacks.History at 0x7f68300aefd0>"
      ]
     },
     "execution_count": 15,
     "metadata": {},
     "output_type": "execute_result"
    }
   ],
   "source": [
    "#training\n",
    "model.fit(x_train, y_train, batch_size=1, epochs=1)"
   ]
  },
  {
   "cell_type": "code",
   "execution_count": 16,
   "metadata": {},
   "outputs": [],
   "source": [
    "#testing dataset creation\n",
    "#scaled values array from index 1084 to 1144 creation\n",
    "test_data = scaled_close_data[training_data_len - 60: , :]\n",
    "\n",
    "#x_test and y_test data sets creation\n",
    "x_test= []\n",
    "y_test= close_dataset[training_data_len:, :]\n",
    "\n",
    "for i in range (60, len(test_data)):\n",
    "    x_test.append(test_data[i-60:i, 0])\n",
    "    #y_test.append()"
   ]
  },
  {
   "cell_type": "code",
   "execution_count": 17,
   "metadata": {},
   "outputs": [],
   "source": [
    "#converting data to np array \n",
    "x_test = np.array(x_test)"
   ]
  },
  {
   "cell_type": "code",
   "execution_count": 18,
   "metadata": {},
   "outputs": [
    {
     "name": "stdout",
     "output_type": "stream",
     "text": [
      "(288, 60)\n"
     ]
    }
   ],
   "source": [
    "print(x_test.shape)\n",
    "#reshaping the data #we need a 3 dimensional shape\n",
    "x_test = np.reshape(x_test, (x_test.shape[0], x_test.shape[1], 1))"
   ]
  },
  {
   "cell_type": "code",
   "execution_count": 19,
   "metadata": {},
   "outputs": [
    {
     "data": {
      "text/plain": [
       "(288, 60, 1)"
      ]
     },
     "execution_count": 19,
     "metadata": {},
     "output_type": "execute_result"
    }
   ],
   "source": [
    "x_test.shape"
   ]
  },
  {
   "cell_type": "code",
   "execution_count": 20,
   "metadata": {},
   "outputs": [],
   "source": [
    "#get the model predicted price values\n",
    "predictions = model.predict(x_test)\n",
    "predictions = scaler.inverse_transform(predictions) #unscaling the values"
   ]
  },
  {
   "cell_type": "code",
   "execution_count": 21,
   "metadata": {},
   "outputs": [
    {
     "data": {
      "text/plain": [
       "4.4151440726386175"
      ]
     },
     "execution_count": 21,
     "metadata": {},
     "output_type": "execute_result"
    }
   ],
   "source": [
    "#model evalutation with the RMSE\n",
    "rmse = np.sqrt(np.mean(predictions - y_test)**2)\n",
    "rmse"
   ]
  },
  {
   "cell_type": "code",
   "execution_count": 22,
   "metadata": {},
   "outputs": [
    {
     "name": "stderr",
     "output_type": "stream",
     "text": [
      "/home/jasminelabeille/anaconda3/envs/yfinance/lib/python3.7/site-packages/ipykernel_launcher.py:4: SettingWithCopyWarning: \n",
      "A value is trying to be set on a copy of a slice from a DataFrame.\n",
      "Try using .loc[row_indexer,col_indexer] = value instead\n",
      "\n",
      "See the caveats in the documentation: https://pandas.pydata.org/pandas-docs/stable/user_guide/indexing.html#returning-a-view-versus-a-copy\n",
      "  after removing the cwd from sys.path.\n"
     ]
    }
   ],
   "source": [
    "#plotting data \n",
    "train = close_data[:training_data_len]\n",
    "valid = close_data[training_data_len:]\n",
    "valid['Predictions'] = predictions"
   ]
  },
  {
   "cell_type": "code",
   "execution_count": 23,
   "metadata": {},
   "outputs": [
    {
     "data": {
      "text/html": [
       "<div>\n",
       "<style scoped>\n",
       "    .dataframe tbody tr th:only-of-type {\n",
       "        vertical-align: middle;\n",
       "    }\n",
       "\n",
       "    .dataframe tbody tr th {\n",
       "        vertical-align: top;\n",
       "    }\n",
       "\n",
       "    .dataframe thead th {\n",
       "        text-align: right;\n",
       "    }\n",
       "</style>\n",
       "<table border=\"1\" class=\"dataframe\">\n",
       "  <thead>\n",
       "    <tr style=\"text-align: right;\">\n",
       "      <th></th>\n",
       "      <th>Close</th>\n",
       "      <th>Predictions</th>\n",
       "    </tr>\n",
       "    <tr>\n",
       "      <th>Date</th>\n",
       "      <th></th>\n",
       "      <th></th>\n",
       "    </tr>\n",
       "  </thead>\n",
       "  <tbody>\n",
       "    <tr>\n",
       "      <th>2019-08-06</th>\n",
       "      <td>134.690002</td>\n",
       "      <td>136.841232</td>\n",
       "    </tr>\n",
       "    <tr>\n",
       "      <th>2019-08-07</th>\n",
       "      <td>135.279999</td>\n",
       "      <td>136.160461</td>\n",
       "    </tr>\n",
       "    <tr>\n",
       "      <th>2019-08-08</th>\n",
       "      <td>138.889999</td>\n",
       "      <td>135.587250</td>\n",
       "    </tr>\n",
       "    <tr>\n",
       "      <th>2019-08-09</th>\n",
       "      <td>137.710007</td>\n",
       "      <td>135.411407</td>\n",
       "    </tr>\n",
       "    <tr>\n",
       "      <th>2019-08-12</th>\n",
       "      <td>135.789993</td>\n",
       "      <td>135.373886</td>\n",
       "    </tr>\n",
       "    <tr>\n",
       "      <th>...</th>\n",
       "      <td>...</td>\n",
       "      <td>...</td>\n",
       "    </tr>\n",
       "    <tr>\n",
       "      <th>2020-09-18</th>\n",
       "      <td>200.389999</td>\n",
       "      <td>202.254654</td>\n",
       "    </tr>\n",
       "    <tr>\n",
       "      <th>2020-09-21</th>\n",
       "      <td>202.539993</td>\n",
       "      <td>200.987427</td>\n",
       "    </tr>\n",
       "    <tr>\n",
       "      <th>2020-09-22</th>\n",
       "      <td>207.419998</td>\n",
       "      <td>199.953705</td>\n",
       "    </tr>\n",
       "    <tr>\n",
       "      <th>2020-09-23</th>\n",
       "      <td>200.589996</td>\n",
       "      <td>199.504135</td>\n",
       "    </tr>\n",
       "    <tr>\n",
       "      <th>2020-09-24</th>\n",
       "      <td>202.210007</td>\n",
       "      <td>198.866318</td>\n",
       "    </tr>\n",
       "  </tbody>\n",
       "</table>\n",
       "<p>288 rows × 2 columns</p>\n",
       "</div>"
      ],
      "text/plain": [
       "                 Close  Predictions\n",
       "Date                               \n",
       "2019-08-06  134.690002   136.841232\n",
       "2019-08-07  135.279999   136.160461\n",
       "2019-08-08  138.889999   135.587250\n",
       "2019-08-09  137.710007   135.411407\n",
       "2019-08-12  135.789993   135.373886\n",
       "...                ...          ...\n",
       "2020-09-18  200.389999   202.254654\n",
       "2020-09-21  202.539993   200.987427\n",
       "2020-09-22  207.419998   199.953705\n",
       "2020-09-23  200.589996   199.504135\n",
       "2020-09-24  202.210007   198.866318\n",
       "\n",
       "[288 rows x 2 columns]"
      ]
     },
     "execution_count": 23,
     "metadata": {},
     "output_type": "execute_result"
    }
   ],
   "source": [
    "valid"
   ]
  },
  {
   "cell_type": "code",
   "execution_count": 24,
   "metadata": {},
   "outputs": [
    {
     "data": {
      "image/png": "[encoded data removed]",
      "text/plain": [
       "<Figure size 1152x576 with 1 Axes>"
      ]
     },
     "metadata": {},
     "output_type": "display_data"
    }
   ],
   "source": [
    "#data vizualisation\n",
    "plt.figure(figsize=(16,8))\n",
    "plt.title('Model')\n",
    "plt.xlabel('Date')\n",
    "plt.ylabel('Close Price USD ($)', fontsize=18)\n",
    "plt.plot(train['Close'])\n",
    "plt.plot(valid[['Close', 'Predictions']])\n",
    "plt.legend(['Train', 'Validation', 'Predictions'], loc='lower right')\n",
    "plt.show()"
   ]
  },
  {
   "cell_type": "code",
   "execution_count": 25,
   "metadata": {},
   "outputs": [
    {
     "data": {
      "text/html": [
       "<div>\n",
       "<style scoped>\n",
       "    .dataframe tbody tr th:only-of-type {\n",
       "        vertical-align: middle;\n",
       "    }\n",
       "\n",
       "    .dataframe tbody tr th {\n",
       "        vertical-align: top;\n",
       "    }\n",
       "\n",
       "    .dataframe thead th {\n",
       "        text-align: right;\n",
       "    }\n",
       "</style>\n",
       "<table border=\"1\" class=\"dataframe\">\n",
       "  <thead>\n",
       "    <tr style=\"text-align: right;\">\n",
       "      <th></th>\n",
       "      <th>Close</th>\n",
       "      <th>Predictions</th>\n",
       "    </tr>\n",
       "    <tr>\n",
       "      <th>Date</th>\n",
       "      <th></th>\n",
       "      <th></th>\n",
       "    </tr>\n",
       "  </thead>\n",
       "  <tbody>\n",
       "    <tr>\n",
       "      <th>2019-08-06</th>\n",
       "      <td>134.690002</td>\n",
       "      <td>136.841232</td>\n",
       "    </tr>\n",
       "    <tr>\n",
       "      <th>2019-08-07</th>\n",
       "      <td>135.279999</td>\n",
       "      <td>136.160461</td>\n",
       "    </tr>\n",
       "    <tr>\n",
       "      <th>2019-08-08</th>\n",
       "      <td>138.889999</td>\n",
       "      <td>135.587250</td>\n",
       "    </tr>\n",
       "    <tr>\n",
       "      <th>2019-08-09</th>\n",
       "      <td>137.710007</td>\n",
       "      <td>135.411407</td>\n",
       "    </tr>\n",
       "    <tr>\n",
       "      <th>2019-08-12</th>\n",
       "      <td>135.789993</td>\n",
       "      <td>135.373886</td>\n",
       "    </tr>\n",
       "    <tr>\n",
       "      <th>...</th>\n",
       "      <td>...</td>\n",
       "      <td>...</td>\n",
       "    </tr>\n",
       "    <tr>\n",
       "      <th>2020-09-18</th>\n",
       "      <td>200.389999</td>\n",
       "      <td>202.254654</td>\n",
       "    </tr>\n",
       "    <tr>\n",
       "      <th>2020-09-21</th>\n",
       "      <td>202.539993</td>\n",
       "      <td>200.987427</td>\n",
       "    </tr>\n",
       "    <tr>\n",
       "      <th>2020-09-22</th>\n",
       "      <td>207.419998</td>\n",
       "      <td>199.953705</td>\n",
       "    </tr>\n",
       "    <tr>\n",
       "      <th>2020-09-23</th>\n",
       "      <td>200.589996</td>\n",
       "      <td>199.504135</td>\n",
       "    </tr>\n",
       "    <tr>\n",
       "      <th>2020-09-24</th>\n",
       "      <td>202.210007</td>\n",
       "      <td>198.866318</td>\n",
       "    </tr>\n",
       "  </tbody>\n",
       "</table>\n",
       "<p>288 rows × 2 columns</p>\n",
       "</div>"
      ],
      "text/plain": [
       "                 Close  Predictions\n",
       "Date                               \n",
       "2019-08-06  134.690002   136.841232\n",
       "2019-08-07  135.279999   136.160461\n",
       "2019-08-08  138.889999   135.587250\n",
       "2019-08-09  137.710007   135.411407\n",
       "2019-08-12  135.789993   135.373886\n",
       "...                ...          ...\n",
       "2020-09-18  200.389999   202.254654\n",
       "2020-09-21  202.539993   200.987427\n",
       "2020-09-22  207.419998   199.953705\n",
       "2020-09-23  200.589996   199.504135\n",
       "2020-09-24  202.210007   198.866318\n",
       "\n",
       "[288 rows x 2 columns]"
      ]
     },
     "execution_count": 25,
     "metadata": {},
     "output_type": "execute_result"
    }
   ],
   "source": [
    "#show the valid and predicted prices\n",
    "valid"
   ]
  },
  {
   "cell_type": "code",
   "execution_count": 26,
   "metadata": {},
   "outputs": [
    {
     "name": "stdout",
     "output_type": "stream",
     "text": [
      "[[53.718792]]\n"
     ]
    }
   ],
   "source": [
    "#get the quote\n",
    "apple_quote = web.DataReader('AAPL', data_source='yahoo', start='2015-01-01', end='2018-09-03')\n",
    "# new dataframe creation\n",
    "new_df = apple_quote.filter(['Close'])\n",
    "#getting the last 60 days closing price values & conversion df to np array\n",
    "last_60_days = new_df[-60:].values\n",
    "\n",
    "#data scaling between 0 and 1\n",
    "last_60_days_scaled = scaler.transform(last_60_days)\n",
    "\n",
    "#empty list creation\n",
    "X_test = []\n",
    "#append the 60 past days\n",
    "X_test.append(last_60_days_scaled)\n",
    "#convert to np array\n",
    "X_test = np.array(X_test)\n",
    "#reshaping\n",
    "X_test = np.reshape(X_test, (X_test.shape[0], X_test.shape[1], 1))\n",
    "\n",
    "#get predicted scaled price\n",
    "pred_price = model.predict(X_test)\n",
    "#unscaling\n",
    "pred_price = scaler.inverse_transform(pred_price)\n",
    "print(pred_price)\n"
   ]
  },
  {
   "cell_type": "code",
   "execution_count": 27,
   "metadata": {},
   "outputs": [
    {
     "name": "stdout",
     "output_type": "stream",
     "text": [
      "Date\n",
      "2019-09-03    51.424999\n",
      "Name: Close, dtype: float64\n"
     ]
    }
   ],
   "source": [
    "apple_quote2 = web.DataReader('AAPL', data_source='yahoo', start='2019-09-03', end='2019-09-03')\n",
    "print(apple_quote2['Close'])"
   ]
  },
  {
   "cell_type": "code",
   "execution_count": 28,
   "metadata": {},
   "outputs": [
    {
     "data": {
      "text/plain": [
       "array([[56.90750122]])"
      ]
     },
     "execution_count": 28,
     "metadata": {},
     "output_type": "execute_result"
    }
   ],
   "source": [
    "last_day = new_df[-1:].values\n",
    "last_day"
   ]
  },
  {
   "cell_type": "code",
   "execution_count": 29,
   "metadata": {},
   "outputs": [
    {
     "name": "stdout",
     "output_type": "stream",
     "text": [
      "[[3.18870926]]\n"
     ]
    }
   ],
   "source": [
    "diif = last_day - pred_price\n",
    "print(diif)"
   ]
  },
  {
   "cell_type": "code",
   "execution_count": 30,
   "metadata": {},
   "outputs": [
    {
     "name": "stdout",
     "output_type": "stream",
     "text": [
      "i advise you to buy\n"
     ]
    }
   ],
   "source": [
    "if diif < 0: #hausse\n",
    "    print(\"i advise you to sell\")\n",
    "elif diif > 0: #baisse\n",
    "    print(\"i advise you to buy\")"
   ]
  },
  {
   "cell_type": "markdown",
   "metadata": {},
   "source": [
    "https://towardsdatascience.com/algorithmic-trading-based-on-technical-analysis-in-python-80d445dc6943\n",
    "\n",
    "https://github.com/erykml/medium_articles/blob/master/Quantitative%20Finance/technical_analysis_strategies.ipynb"
   ]
  },
  {
   "cell_type": "code",
   "execution_count": null,
   "metadata": {},
   "outputs": [],
   "source": [
    "#fixing a threshold\n",
    "\n",
    "\n",
    "\n",
    "\n",
    "\n",
    "#variables initialization\n",
    "buys = []\n",
    "sells = []\n",
    "thresh = 0.1\n",
    "\n",
    "start = 0\n",
    "end = -1\n",
    "\n",
    "\n",
    "\n",
    "\n",
    "\n",
    "#copy of lists creation? nope?\n",
    "\n"
   ]
  },
  {
   "cell_type": "code",
   "execution_count": null,
   "metadata": {},
   "outputs": [],
   "source": [
    "\n",
    "x = -1\n",
    "for ohlcv, ind in zip(ohlcv_test[start: end], tech_ind_test[start: end]):\n",
    "    normalised_price_today = ohlcv[-1][0]\n",
    "    normalised_price_today = np.array([[normalised_price_today]])\n",
    "    price_today = y_normaliser.inverse_transform(normalised_price_today)\n",
    "    predicted_price_tomorrow = np.squeeze(y_normaliser.inverse_transform(model.predict([[ohlcv], [ind]])))\n",
    "    delta = predicted_price_tomorrow - price_today\n",
    "    if delta > thresh:\n",
    "        buys.append((x, price_today[0][0]))\n",
    "    elif delta < -thresh:\n",
    "        sells.append((x, price_today[0][0]))\n",
    "    x += 1\n",
    "print(f\"buys: {len(buys)}\")\n",
    "print(f\"sells: {len(sells)}\")"
   ]
  },
  {
   "cell_type": "code",
   "execution_count": null,
   "metadata": {},
   "outputs": [],
   "source": []
  },
  {
   "cell_type": "code",
   "execution_count": null,
   "metadata": {},
   "outputs": [],
   "source": []
  },
  {
   "cell_type": "code",
   "execution_count": 31,
   "metadata": {},
   "outputs": [],
   "source": [
    "import pickle5"
   ]
  },
  {
   "cell_type": "code",
   "execution_count": null,
   "metadata": {},
   "outputs": [],
   "source": [
    "#from zipline.api import order_target, record, symbol, set_commission, order_percent"
   ]
  },
  {
   "cell_type": "code",
   "execution_count": null,
   "metadata": {},
   "outputs": [],
   "source": [
    "#from zipline.finance import commission"
   ]
  },
  {
   "cell_type": "code",
   "execution_count": 32,
   "metadata": {},
   "outputs": [],
   "source": [
    "# save model and architecture to single file\n",
    "model.save(\"MSFT_model.h5\")"
   ]
  },
  {
   "cell_type": "code",
   "execution_count": 33,
   "metadata": {},
   "outputs": [
    {
     "name": "stdout",
     "output_type": "stream",
     "text": [
      "adding_MSFT_AMZN_NFLX_GOOGL_FB.ipynb\r\n",
      "build_model_on__AAPL.ipynb\r\n",
      "build_model_on_AAPL.ipynb\r\n",
      "build_model_on_AAPL__merged_cells_4_1st_script.ipynb\r\n",
      "build_model_on_GOOGL.ipynb\r\n",
      "build_model_on_MSFT.ipynb\r\n",
      "GOOGL_model.h5\r\n",
      "MSFT_model.h5\r\n",
      "to_solve_installation_conflicts.ipynb\r\n"
     ]
    }
   ],
   "source": [
    "!ls"
   ]
  },
  {
   "cell_type": "code",
   "execution_count": null,
   "metadata": {},
   "outputs": [],
   "source": [
    "!rm model.h5"
   ]
  },
  {
   "cell_type": "code",
   "execution_count": null,
   "metadata": {},
   "outputs": [],
   "source": [
    "!ls"
   ]
  },
  {
   "cell_type": "code",
   "execution_count": null,
   "metadata": {},
   "outputs": [],
   "source": []
  },
  {
   "cell_type": "code",
   "execution_count": null,
   "metadata": {},
   "outputs": [],
   "source": []
  },
  {
   "cell_type": "code",
   "execution_count": null,
   "metadata": {},
   "outputs": [],
   "source": []
  },
  {
   "cell_type": "code",
   "execution_count": null,
   "metadata": {},
   "outputs": [],
   "source": []
  },
  {
   "cell_type": "code",
   "execution_count": null,
   "metadata": {},
   "outputs": [],
   "source": []
  },
  {
   "cell_type": "code",
   "execution_count": null,
   "metadata": {},
   "outputs": [],
   "source": []
  },
  {
   "cell_type": "code",
   "execution_count": null,
   "metadata": {},
   "outputs": [],
   "source": []
  },
  {
   "cell_type": "code",
   "execution_count": null,
   "metadata": {},
   "outputs": [],
   "source": []
  },
  {
   "cell_type": "code",
   "execution_count": null,
   "metadata": {},
   "outputs": [],
   "source": []
  },
  {
   "cell_type": "code",
   "execution_count": null,
   "metadata": {},
   "outputs": [],
   "source": []
  },
  {
   "cell_type": "code",
   "execution_count": null,
   "metadata": {},
   "outputs": [],
   "source": [
    "#conda install -c conda-forge jupyterthemes\n",
    "#!pip3 install jupyterthemes\n",
    "!pip3 install jupyterthemes==0.16.1"
   ]
  },
  {
   "cell_type": "code",
   "execution_count": null,
   "metadata": {},
   "outputs": [],
   "source": [
    "!jt -l #list of themes"
   ]
  },
  {
   "cell_type": "code",
   "execution_count": null,
   "metadata": {},
   "outputs": [],
   "source": [
    "!jt -r\n",
    "#!jt -t onedork  # + refresh the notebook # to switch into dark theme\n",
    "#changing the font:\n",
    "#!jt -t solarizedd -f fira -fs 115\n",
    "#adjusting cell width:\n",
    "#!jt -t chesterish -cellw 90% -lineh 170\n",
    "#cursor width and colour:\n",
    "#!jt -t oceans16 -cursc r -cursw 5\n",
    "#!jt -r  # + refresh the notebook #to restore back"
   ]
  },
  {
   "cell_type": "code",
   "execution_count": null,
   "metadata": {},
   "outputs": [],
   "source": [
    "!jt -t solarized"
   ]
  },
  {
   "cell_type": "code",
   "execution_count": null,
   "metadata": {},
   "outputs": [],
   "source": [
    "#changing the font:\n",
    "#!jt -t solarizedd -f fira -fs 115"
   ]
  },
  {
   "cell_type": "code",
   "execution_count": null,
   "metadata": {},
   "outputs": [],
   "source": [
    "#adjusting cell width:\n",
    "#!jt -t chesterish -cellw 90% -lineh 170"
   ]
  },
  {
   "cell_type": "code",
   "execution_count": null,
   "metadata": {},
   "outputs": [],
   "source": [
    "#cursor width and colour:\n",
    "#!jt -t oceans16 -cursc r -cursw 5"
   ]
  },
  {
   "cell_type": "markdown",
   "metadata": {},
   "source": [
    "Plotting With The Theme\n",
    "\n",
    "The jupyterthemes library also allows you to make appealing visualisation with its submodule jtplot. Import the module and use its style() method to change figure properties.\n",
    "\n",
    "`#import the module\n",
    "from jupyterthemes import jtplot`\n",
    "\n",
    "the style() method can be used to beautify your visualisation"
   ]
  },
  {
   "cell_type": "code",
   "execution_count": null,
   "metadata": {},
   "outputs": [],
   "source": [
    "# another method with import\n",
    "\n",
    "#from jupyterthemes import get_themes\n",
    "#from jupyterthemes.styles import set_rb_theme\n"
   ]
  },
  {
   "cell_type": "code",
   "execution_count": null,
   "metadata": {},
   "outputs": [],
   "source": []
  },
  {
   "cell_type": "code",
   "execution_count": null,
   "metadata": {},
   "outputs": [],
   "source": []
  },
  {
   "cell_type": "code",
   "execution_count": null,
   "metadata": {},
   "outputs": [],
   "source": []
  }
 ],
 "metadata": {
  "kernelspec": {
   "display_name": "Python 3",
   "language": "python",
   "name": "python3"
  },
  "language_info": {
   "codemirror_mode": {
    "name": "ipython",
    "version": 3
   },
   "file_extension": ".py",
   "mimetype": "text/x-python",
   "name": "python",
   "nbconvert_exporter": "python",
   "pygments_lexer": "ipython3",
   "version": "3.7.8"
  }
 },
 "nbformat": 4,
 "nbformat_minor": 4
}
