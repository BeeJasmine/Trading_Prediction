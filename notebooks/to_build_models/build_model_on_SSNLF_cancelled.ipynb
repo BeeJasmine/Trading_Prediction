{
 "cells": [
  {
   "cell_type": "code",
   "execution_count": 1,
   "metadata": {},
   "outputs": [],
   "source": [
    "import math\n",
    "import pandas_datareader as web \n",
    "import numpy as np\n",
    "import pandas as pd\n",
    "from sklearn.preprocessing import MinMaxScaler\n",
    "from keras.models import Sequential\n",
    "from keras.layers import Dense, LSTM\n",
    "import matplotlib.pyplot as plt\n",
    "plt.style.use('fivethirtyeight') \n",
    "import datetime\n",
    "end = datetime.date.today()\n",
    "\n",
    "df = web.DataReader('SSNLF', data_source='yahoo', start='2015-01-01', end=end)"
   ]
  },
  {
   "cell_type": "code",
   "execution_count": 2,
   "metadata": {},
   "outputs": [
    {
     "data": {
      "text/html": [
       "<div>\n",
       "<style scoped>\n",
       "    .dataframe tbody tr th:only-of-type {\n",
       "        vertical-align: middle;\n",
       "    }\n",
       "\n",
       "    .dataframe tbody tr th {\n",
       "        vertical-align: top;\n",
       "    }\n",
       "\n",
       "    .dataframe thead th {\n",
       "        text-align: right;\n",
       "    }\n",
       "</style>\n",
       "<table border=\"1\" class=\"dataframe\">\n",
       "  <thead>\n",
       "    <tr style=\"text-align: right;\">\n",
       "      <th></th>\n",
       "      <th>High</th>\n",
       "      <th>Low</th>\n",
       "      <th>Open</th>\n",
       "      <th>Close</th>\n",
       "      <th>Volume</th>\n",
       "      <th>Adj Close</th>\n",
       "    </tr>\n",
       "    <tr>\n",
       "      <th>Date</th>\n",
       "      <th></th>\n",
       "      <th></th>\n",
       "      <th></th>\n",
       "      <th></th>\n",
       "      <th></th>\n",
       "      <th></th>\n",
       "    </tr>\n",
       "  </thead>\n",
       "  <tbody>\n",
       "    <tr>\n",
       "      <th>2015-01-02</th>\n",
       "      <td>22.000000</td>\n",
       "      <td>22.000000</td>\n",
       "      <td>22.000000</td>\n",
       "      <td>22.000000</td>\n",
       "      <td>0.0</td>\n",
       "      <td>22.000000</td>\n",
       "    </tr>\n",
       "    <tr>\n",
       "      <th>2015-01-05</th>\n",
       "      <td>22.000000</td>\n",
       "      <td>22.000000</td>\n",
       "      <td>22.000000</td>\n",
       "      <td>22.000000</td>\n",
       "      <td>0.0</td>\n",
       "      <td>22.000000</td>\n",
       "    </tr>\n",
       "    <tr>\n",
       "      <th>2015-01-06</th>\n",
       "      <td>25.000000</td>\n",
       "      <td>25.000000</td>\n",
       "      <td>25.000000</td>\n",
       "      <td>25.000000</td>\n",
       "      <td>0.0</td>\n",
       "      <td>25.000000</td>\n",
       "    </tr>\n",
       "    <tr>\n",
       "      <th>2015-01-07</th>\n",
       "      <td>25.000000</td>\n",
       "      <td>25.000000</td>\n",
       "      <td>25.000000</td>\n",
       "      <td>25.000000</td>\n",
       "      <td>0.0</td>\n",
       "      <td>25.000000</td>\n",
       "    </tr>\n",
       "    <tr>\n",
       "      <th>2015-01-08</th>\n",
       "      <td>25.000000</td>\n",
       "      <td>25.000000</td>\n",
       "      <td>25.000000</td>\n",
       "      <td>25.000000</td>\n",
       "      <td>0.0</td>\n",
       "      <td>25.000000</td>\n",
       "    </tr>\n",
       "    <tr>\n",
       "      <th>...</th>\n",
       "      <td>...</td>\n",
       "      <td>...</td>\n",
       "      <td>...</td>\n",
       "      <td>...</td>\n",
       "      <td>...</td>\n",
       "      <td>...</td>\n",
       "    </tr>\n",
       "    <tr>\n",
       "      <th>2020-09-16</th>\n",
       "      <td>44.200001</td>\n",
       "      <td>44.200001</td>\n",
       "      <td>44.200001</td>\n",
       "      <td>44.200001</td>\n",
       "      <td>0.0</td>\n",
       "      <td>44.200001</td>\n",
       "    </tr>\n",
       "    <tr>\n",
       "      <th>2020-09-17</th>\n",
       "      <td>44.200001</td>\n",
       "      <td>44.200001</td>\n",
       "      <td>44.200001</td>\n",
       "      <td>44.200001</td>\n",
       "      <td>0.0</td>\n",
       "      <td>44.200001</td>\n",
       "    </tr>\n",
       "    <tr>\n",
       "      <th>2020-09-21</th>\n",
       "      <td>44.200001</td>\n",
       "      <td>44.200001</td>\n",
       "      <td>44.200001</td>\n",
       "      <td>44.200001</td>\n",
       "      <td>0.0</td>\n",
       "      <td>44.200001</td>\n",
       "    </tr>\n",
       "    <tr>\n",
       "      <th>2020-09-22</th>\n",
       "      <td>44.200001</td>\n",
       "      <td>44.200001</td>\n",
       "      <td>44.200001</td>\n",
       "      <td>44.200001</td>\n",
       "      <td>0.0</td>\n",
       "      <td>44.200001</td>\n",
       "    </tr>\n",
       "    <tr>\n",
       "      <th>2020-09-23</th>\n",
       "      <td>44.200001</td>\n",
       "      <td>44.200001</td>\n",
       "      <td>44.200001</td>\n",
       "      <td>44.200001</td>\n",
       "      <td>0.0</td>\n",
       "      <td>44.200001</td>\n",
       "    </tr>\n",
       "  </tbody>\n",
       "</table>\n",
       "<p>1441 rows × 6 columns</p>\n",
       "</div>"
      ],
      "text/plain": [
       "                 High        Low       Open      Close  Volume  Adj Close\n",
       "Date                                                                     \n",
       "2015-01-02  22.000000  22.000000  22.000000  22.000000     0.0  22.000000\n",
       "2015-01-05  22.000000  22.000000  22.000000  22.000000     0.0  22.000000\n",
       "2015-01-06  25.000000  25.000000  25.000000  25.000000     0.0  25.000000\n",
       "2015-01-07  25.000000  25.000000  25.000000  25.000000     0.0  25.000000\n",
       "2015-01-08  25.000000  25.000000  25.000000  25.000000     0.0  25.000000\n",
       "...               ...        ...        ...        ...     ...        ...\n",
       "2020-09-16  44.200001  44.200001  44.200001  44.200001     0.0  44.200001\n",
       "2020-09-17  44.200001  44.200001  44.200001  44.200001     0.0  44.200001\n",
       "2020-09-21  44.200001  44.200001  44.200001  44.200001     0.0  44.200001\n",
       "2020-09-22  44.200001  44.200001  44.200001  44.200001     0.0  44.200001\n",
       "2020-09-23  44.200001  44.200001  44.200001  44.200001     0.0  44.200001\n",
       "\n",
       "[1441 rows x 6 columns]"
      ]
     },
     "execution_count": 2,
     "metadata": {},
     "output_type": "execute_result"
    }
   ],
   "source": [
    "df"
   ]
  },
  {
   "cell_type": "code",
   "execution_count": 3,
   "metadata": {},
   "outputs": [
    {
     "data": {
      "text/plain": [
       "(1441, 6)"
      ]
     },
     "execution_count": 3,
     "metadata": {},
     "output_type": "execute_result"
    }
   ],
   "source": [
    "#get number of rows & columns\n",
    "df.shape"
   ]
  },
  {
   "cell_type": "code",
   "execution_count": 4,
   "metadata": {},
   "outputs": [
    {
     "data": {
      "image/png": "[encoded data removed]",
      "text/plain": [
       "<Figure size 1152x576 with 1 Axes>"
      ]
     },
     "metadata": {
      "needs_background": "light"
     },
     "output_type": "display_data"
    }
   ],
   "source": [
    "#visualize\n",
    "plt.figure(figsize=(16,8))\n",
    "plt.title('Close Price History')\n",
    "plt.plot(df['Close'])\n",
    "plt.xlabel('Date', fontsize=18)\n",
    "plt.ylabel('Close Price USD ($)', fontsize=18)\n",
    "plt.show()"
   ]
  },
  {
   "cell_type": "code",
   "execution_count": 5,
   "metadata": {},
   "outputs": [
    {
     "data": {
      "text/plain": [
       "1155"
      ]
     },
     "execution_count": 5,
     "metadata": {},
     "output_type": "execute_result"
    }
   ],
   "source": [
    "#new df with df[close]\n",
    "close_data = df.filter(['Close'])\n",
    "\n",
    "#convert to np array\n",
    "close_dataset=close_data.values\n",
    "\n",
    "#number of rows to train model on\n",
    "training_data_len = math.ceil(len(close_dataset) * .8) #pour entrainer sur 80% de notre data\n",
    "\n",
    "training_data_len"
   ]
  },
  {
   "cell_type": "code",
   "execution_count": 6,
   "metadata": {},
   "outputs": [
    {
     "data": {
      "text/plain": [
       "array([[0.00664817],\n",
       "       [0.00469718],\n",
       "       [0.0025705 ],\n",
       "       ...,\n",
       "       [0.87595624],\n",
       "       [0.83615662],\n",
       "       [0.83779626]])"
      ]
     },
     "execution_count": 6,
     "metadata": {},
     "output_type": "execute_result"
    }
   ],
   "source": [
    "#data scaling\n",
    "scaler = MinMaxScaler(feature_range=(0,1))\n",
    "scaled_close_data = scaler.fit_transform(close_dataset)\n",
    "\n",
    "scaled_close_data"
   ]
  },
  {
   "cell_type": "code",
   "execution_count": 7,
   "metadata": {},
   "outputs": [
    {
     "name": "stdout",
     "output_type": "stream",
     "text": [
      "[array([0.00664817, 0.00469718, 0.0025705 , 0.00353521, 0.00416396,\n",
      "       0.00307597, 0.00137463, 0.00240098, 0.0019479 , 0.        ,\n",
      "       0.00116812, 0.00076745, 0.0031746 , 0.00720296, 0.00784096,\n",
      "       0.00699954, 0.00610263, 0.00522731, 0.00765295, 0.02082909,\n",
      "       0.02389274, 0.02360918, 0.02397904, 0.02679612, 0.02691632,\n",
      "       0.02576976, 0.0265218 , 0.02718139, 0.02780706, 0.02924333,\n",
      "       0.02727076, 0.02663584, 0.02837109, 0.02980736, 0.02872245,\n",
      "       0.02824472, 0.03033441, 0.03015872, 0.02872862, 0.03042379,\n",
      "       0.03010016, 0.02951764, 0.03109261, 0.02870704, 0.02823547,\n",
      "       0.02544614, 0.02447834, 0.02690399, 0.02577592, 0.02662968,\n",
      "       0.02618894, 0.02718139, 0.02659577, 0.02821389, 0.02717213,\n",
      "       0.02685775, 0.02589304, 0.0247804 , 0.02576976, 0.02701186])]\n",
      "[0.026244412235572875]\n",
      "\n",
      "[array([0.00664817, 0.00469718, 0.0025705 , 0.00353521, 0.00416396,\n",
      "       0.00307597, 0.00137463, 0.00240098, 0.0019479 , 0.        ,\n",
      "       0.00116812, 0.00076745, 0.0031746 , 0.00720296, 0.00784096,\n",
      "       0.00699954, 0.00610263, 0.00522731, 0.00765295, 0.02082909,\n",
      "       0.02389274, 0.02360918, 0.02397904, 0.02679612, 0.02691632,\n",
      "       0.02576976, 0.0265218 , 0.02718139, 0.02780706, 0.02924333,\n",
      "       0.02727076, 0.02663584, 0.02837109, 0.02980736, 0.02872245,\n",
      "       0.02824472, 0.03033441, 0.03015872, 0.02872862, 0.03042379,\n",
      "       0.03010016, 0.02951764, 0.03109261, 0.02870704, 0.02823547,\n",
      "       0.02544614, 0.02447834, 0.02690399, 0.02577592, 0.02662968,\n",
      "       0.02618894, 0.02718139, 0.02659577, 0.02821389, 0.02717213,\n",
      "       0.02685775, 0.02589304, 0.0247804 , 0.02576976, 0.02701186]), array([0.00469718, 0.0025705 , 0.00353521, 0.00416396, 0.00307597,\n",
      "       0.00137463, 0.00240098, 0.0019479 , 0.        , 0.00116812,\n",
      "       0.00076745, 0.0031746 , 0.00720296, 0.00784096, 0.00699954,\n",
      "       0.00610263, 0.00522731, 0.00765295, 0.02082909, 0.02389274,\n",
      "       0.02360918, 0.02397904, 0.02679612, 0.02691632, 0.02576976,\n",
      "       0.0265218 , 0.02718139, 0.02780706, 0.02924333, 0.02727076,\n",
      "       0.02663584, 0.02837109, 0.02980736, 0.02872245, 0.02824472,\n",
      "       0.03033441, 0.03015872, 0.02872862, 0.03042379, 0.03010016,\n",
      "       0.02951764, 0.03109261, 0.02870704, 0.02823547, 0.02544614,\n",
      "       0.02447834, 0.02690399, 0.02577592, 0.02662968, 0.02618894,\n",
      "       0.02718139, 0.02659577, 0.02821389, 0.02717213, 0.02685775,\n",
      "       0.02589304, 0.0247804 , 0.02576976, 0.02701186, 0.02624441])]\n",
      "[0.026244412235572875, 0.025677299776795115]\n",
      "\n"
     ]
    }
   ],
   "source": [
    "# create scaled training dataset\n",
    "train_close_data = scaled_close_data[0:training_data_len, :]\n",
    "\n",
    "#split the data into x_train and y_train sets\n",
    "x_train = []\n",
    "y_train = []\n",
    "\n",
    "for i in range(60, len(train_close_data)):\n",
    "    x_train.append(train_close_data[i-60:i, 0])\n",
    "    y_train.append(train_close_data[i,0]) #60 values from index 0 to 59\n",
    "    \n",
    "    if i <= 61:\n",
    "        print(x_train)\n",
    "        print(y_train)\n",
    "        print()"
   ]
  },
  {
   "cell_type": "code",
   "execution_count": 8,
   "metadata": {},
   "outputs": [],
   "source": [
    "#utiliser un réseau de neurones récurrent pour prdéire le cours de la bourse #supervised DL"
   ]
  },
  {
   "cell_type": "code",
   "execution_count": 9,
   "metadata": {},
   "outputs": [],
   "source": [
    "#converting x_train and y_train into np arrays\n",
    "x_train, y_train = np.array(x_train), np.array(y_train)"
   ]
  },
  {
   "cell_type": "code",
   "execution_count": 10,
   "metadata": {},
   "outputs": [
    {
     "data": {
      "text/plain": [
       "(1095, 60)"
      ]
     },
     "execution_count": 10,
     "metadata": {},
     "output_type": "execute_result"
    }
   ],
   "source": [
    "x_train.shape\n",
    "#x_train.shape[0] for 1st value"
   ]
  },
  {
   "cell_type": "code",
   "execution_count": 11,
   "metadata": {},
   "outputs": [
    {
     "data": {
      "text/plain": [
       "(1095, 60, 1)"
      ]
     },
     "execution_count": 11,
     "metadata": {},
     "output_type": "execute_result"
    }
   ],
   "source": [
    "#reshaping the data\n",
    "x_train = np.reshape(x_train, (x_train.shape[0], x_train.shape[1], 1)) #x_train.shape == 60\n",
    "x_train.shape\n",
    "#y_train = np.reshape(y_train, ())"
   ]
  },
  {
   "cell_type": "code",
   "execution_count": 12,
   "metadata": {},
   "outputs": [],
   "source": [
    "#build the LSTM model\n",
    "\n",
    "model = Sequential()\n",
    "#50 nerons\n",
    "model.add(LSTM(50, return_sequences=True, input_shape= (x_train.shape[1], 1)))\n",
    "model.add(LSTM(50, return_sequences=False))\n",
    "#25neurons\n",
    "model.add(Dense(25))\n",
    "model.add(Dense(1))"
   ]
  },
  {
   "cell_type": "code",
   "execution_count": 13,
   "metadata": {},
   "outputs": [],
   "source": [
    "#compile th model\n",
    "model.compile(optimizer='adam', loss='mean_squared_error')"
   ]
  },
  {
   "cell_type": "code",
   "execution_count": 14,
   "metadata": {},
   "outputs": [
    {
     "name": "stdout",
     "output_type": "stream",
     "text": [
      "1095/1095 [==============================] - 37s 34ms/step - loss: 6.4990e-04\n"
     ]
    },
    {
     "data": {
      "text/plain": [
       "<tensorflow.python.keras.callbacks.History at 0x7fa080305e50>"
      ]
     },
     "execution_count": 14,
     "metadata": {},
     "output_type": "execute_result"
    }
   ],
   "source": [
    "#training\n",
    "model.fit(x_train, y_train, batch_size=1, epochs=1)"
   ]
  },
  {
   "cell_type": "code",
   "execution_count": 15,
   "metadata": {},
   "outputs": [],
   "source": [
    "#testing dataset creation\n",
    "#scaled values array from index 1084 to 1144 creation\n",
    "test_data = scaled_close_data[training_data_len - 60: , :]\n",
    "\n",
    "#x_test and y_test data sets creation\n",
    "x_test= []\n",
    "y_test= close_dataset[training_data_len:, :]\n",
    "\n",
    "for i in range (60, len(test_data)):\n",
    "    x_test.append(test_data[i-60:i, 0])\n",
    "    #y_test.append()"
   ]
  },
  {
   "cell_type": "code",
   "execution_count": 16,
   "metadata": {},
   "outputs": [],
   "source": [
    "#converting data to np array \n",
    "x_test = np.array(x_test)"
   ]
  },
  {
   "cell_type": "code",
   "execution_count": 17,
   "metadata": {},
   "outputs": [
    {
     "name": "stdout",
     "output_type": "stream",
     "text": [
      "(288, 60)\n"
     ]
    }
   ],
   "source": [
    "print(x_test.shape)\n",
    "#reshaping the data #we need a 3 dimensional shape\n",
    "x_test = np.reshape(x_test, (x_test.shape[0], x_test.shape[1], 1))"
   ]
  },
  {
   "cell_type": "code",
   "execution_count": 18,
   "metadata": {},
   "outputs": [
    {
     "data": {
      "text/plain": [
       "(288, 60, 1)"
      ]
     },
     "execution_count": 18,
     "metadata": {},
     "output_type": "execute_result"
    }
   ],
   "source": [
    "x_test.shape"
   ]
  },
  {
   "cell_type": "code",
   "execution_count": 19,
   "metadata": {},
   "outputs": [],
   "source": [
    "#get the model predicted price values\n",
    "predictions = model.predict(x_test)\n",
    "predictions = scaler.inverse_transform(predictions) #unscaling the values"
   ]
  },
  {
   "cell_type": "code",
   "execution_count": 20,
   "metadata": {},
   "outputs": [
    {
     "data": {
      "text/plain": [
       "77.80218124389648"
      ]
     },
     "execution_count": 20,
     "metadata": {},
     "output_type": "execute_result"
    }
   ],
   "source": [
    "#model evalutation with the RMSE\n",
    "rmse = np.sqrt(np.mean(predictions - y_test)**2)\n",
    "rmse"
   ]
  },
  {
   "cell_type": "code",
   "execution_count": 21,
   "metadata": {},
   "outputs": [
    {
     "name": "stderr",
     "output_type": "stream",
     "text": [
      "/home/jasminelabeille/anaconda3/envs/yfinance/lib/python3.7/site-packages/ipykernel_launcher.py:4: SettingWithCopyWarning: \n",
      "A value is trying to be set on a copy of a slice from a DataFrame.\n",
      "Try using .loc[row_indexer,col_indexer] = value instead\n",
      "\n",
      "See the caveats in the documentation: https://pandas.pydata.org/pandas-docs/stable/user_guide/indexing.html#returning-a-view-versus-a-copy\n",
      "  after removing the cwd from sys.path.\n"
     ]
    }
   ],
   "source": [
    "#plotting data \n",
    "train = close_data[:training_data_len]\n",
    "valid = close_data[training_data_len:]\n",
    "valid['Predictions'] = predictions"
   ]
  },
  {
   "cell_type": "code",
   "execution_count": 22,
   "metadata": {},
   "outputs": [
    {
     "data": {
      "text/html": [
       "<div>\n",
       "<style scoped>\n",
       "    .dataframe tbody tr th:only-of-type {\n",
       "        vertical-align: middle;\n",
       "    }\n",
       "\n",
       "    .dataframe tbody tr th {\n",
       "        vertical-align: top;\n",
       "    }\n",
       "\n",
       "    .dataframe thead th {\n",
       "        text-align: right;\n",
       "    }\n",
       "</style>\n",
       "<table border=\"1\" class=\"dataframe\">\n",
       "  <thead>\n",
       "    <tr style=\"text-align: right;\">\n",
       "      <th></th>\n",
       "      <th>Close</th>\n",
       "      <th>Predictions</th>\n",
       "    </tr>\n",
       "    <tr>\n",
       "      <th>Date</th>\n",
       "      <th></th>\n",
       "      <th></th>\n",
       "    </tr>\n",
       "  </thead>\n",
       "  <tbody>\n",
       "    <tr>\n",
       "      <th>2019-08-06</th>\n",
       "      <td>1787.829956</td>\n",
       "      <td>1986.282593</td>\n",
       "    </tr>\n",
       "    <tr>\n",
       "      <th>2019-08-07</th>\n",
       "      <td>1793.400024</td>\n",
       "      <td>1964.030884</td>\n",
       "    </tr>\n",
       "    <tr>\n",
       "      <th>2019-08-08</th>\n",
       "      <td>1832.890015</td>\n",
       "      <td>1945.784912</td>\n",
       "    </tr>\n",
       "    <tr>\n",
       "      <th>2019-08-09</th>\n",
       "      <td>1807.579956</td>\n",
       "      <td>1935.610229</td>\n",
       "    </tr>\n",
       "    <tr>\n",
       "      <th>2019-08-12</th>\n",
       "      <td>1784.920044</td>\n",
       "      <td>1927.818237</td>\n",
       "    </tr>\n",
       "    <tr>\n",
       "      <th>...</th>\n",
       "      <td>...</td>\n",
       "      <td>...</td>\n",
       "    </tr>\n",
       "    <tr>\n",
       "      <th>2020-09-18</th>\n",
       "      <td>2954.909912</td>\n",
       "      <td>3231.993408</td>\n",
       "    </tr>\n",
       "    <tr>\n",
       "      <th>2020-09-21</th>\n",
       "      <td>2960.469971</td>\n",
       "      <td>3198.004150</td>\n",
       "    </tr>\n",
       "    <tr>\n",
       "      <th>2020-09-22</th>\n",
       "      <td>3128.989990</td>\n",
       "      <td>3166.702637</td>\n",
       "    </tr>\n",
       "    <tr>\n",
       "      <th>2020-09-23</th>\n",
       "      <td>2999.860107</td>\n",
       "      <td>3158.281250</td>\n",
       "    </tr>\n",
       "    <tr>\n",
       "      <th>2020-09-24</th>\n",
       "      <td>3005.179932</td>\n",
       "      <td>3146.993408</td>\n",
       "    </tr>\n",
       "  </tbody>\n",
       "</table>\n",
       "<p>288 rows × 2 columns</p>\n",
       "</div>"
      ],
      "text/plain": [
       "                  Close  Predictions\n",
       "Date                                \n",
       "2019-08-06  1787.829956  1986.282593\n",
       "2019-08-07  1793.400024  1964.030884\n",
       "2019-08-08  1832.890015  1945.784912\n",
       "2019-08-09  1807.579956  1935.610229\n",
       "2019-08-12  1784.920044  1927.818237\n",
       "...                 ...          ...\n",
       "2020-09-18  2954.909912  3231.993408\n",
       "2020-09-21  2960.469971  3198.004150\n",
       "2020-09-22  3128.989990  3166.702637\n",
       "2020-09-23  2999.860107  3158.281250\n",
       "2020-09-24  3005.179932  3146.993408\n",
       "\n",
       "[288 rows x 2 columns]"
      ]
     },
     "execution_count": 22,
     "metadata": {},
     "output_type": "execute_result"
    }
   ],
   "source": [
    "valid"
   ]
  },
  {
   "cell_type": "code",
   "execution_count": 23,
   "metadata": {},
   "outputs": [
    {
     "data": {
      "image/png": "[encoded data removed]",
      "text/plain": [
       "<Figure size 1152x576 with 1 Axes>"
      ]
     },
     "metadata": {
      "needs_background": "light"
     },
     "output_type": "display_data"
    }
   ],
   "source": [
    "#data vizualisation\n",
    "plt.figure(figsize=(16,8))\n",
    "plt.title('Model')\n",
    "plt.xlabel('Date')\n",
    "plt.ylabel('Close Price USD ($)', fontsize=18)\n",
    "plt.plot(train['Close'])\n",
    "plt.plot(valid[['Close', 'Predictions']])\n",
    "plt.legend(['Train', 'Validation', 'Predictions'], loc='lower right')\n",
    "plt.show()"
   ]
  },
  {
   "cell_type": "code",
   "execution_count": 24,
   "metadata": {},
   "outputs": [
    {
     "data": {
      "text/html": [
       "<div>\n",
       "<style scoped>\n",
       "    .dataframe tbody tr th:only-of-type {\n",
       "        vertical-align: middle;\n",
       "    }\n",
       "\n",
       "    .dataframe tbody tr th {\n",
       "        vertical-align: top;\n",
       "    }\n",
       "\n",
       "    .dataframe thead th {\n",
       "        text-align: right;\n",
       "    }\n",
       "</style>\n",
       "<table border=\"1\" class=\"dataframe\">\n",
       "  <thead>\n",
       "    <tr style=\"text-align: right;\">\n",
       "      <th></th>\n",
       "      <th>Close</th>\n",
       "      <th>Predictions</th>\n",
       "    </tr>\n",
       "    <tr>\n",
       "      <th>Date</th>\n",
       "      <th></th>\n",
       "      <th></th>\n",
       "    </tr>\n",
       "  </thead>\n",
       "  <tbody>\n",
       "    <tr>\n",
       "      <th>2019-08-06</th>\n",
       "      <td>1787.829956</td>\n",
       "      <td>1986.282593</td>\n",
       "    </tr>\n",
       "    <tr>\n",
       "      <th>2019-08-07</th>\n",
       "      <td>1793.400024</td>\n",
       "      <td>1964.030884</td>\n",
       "    </tr>\n",
       "    <tr>\n",
       "      <th>2019-08-08</th>\n",
       "      <td>1832.890015</td>\n",
       "      <td>1945.784912</td>\n",
       "    </tr>\n",
       "    <tr>\n",
       "      <th>2019-08-09</th>\n",
       "      <td>1807.579956</td>\n",
       "      <td>1935.610229</td>\n",
       "    </tr>\n",
       "    <tr>\n",
       "      <th>2019-08-12</th>\n",
       "      <td>1784.920044</td>\n",
       "      <td>1927.818237</td>\n",
       "    </tr>\n",
       "    <tr>\n",
       "      <th>...</th>\n",
       "      <td>...</td>\n",
       "      <td>...</td>\n",
       "    </tr>\n",
       "    <tr>\n",
       "      <th>2020-09-18</th>\n",
       "      <td>2954.909912</td>\n",
       "      <td>3231.993408</td>\n",
       "    </tr>\n",
       "    <tr>\n",
       "      <th>2020-09-21</th>\n",
       "      <td>2960.469971</td>\n",
       "      <td>3198.004150</td>\n",
       "    </tr>\n",
       "    <tr>\n",
       "      <th>2020-09-22</th>\n",
       "      <td>3128.989990</td>\n",
       "      <td>3166.702637</td>\n",
       "    </tr>\n",
       "    <tr>\n",
       "      <th>2020-09-23</th>\n",
       "      <td>2999.860107</td>\n",
       "      <td>3158.281250</td>\n",
       "    </tr>\n",
       "    <tr>\n",
       "      <th>2020-09-24</th>\n",
       "      <td>3005.179932</td>\n",
       "      <td>3146.993408</td>\n",
       "    </tr>\n",
       "  </tbody>\n",
       "</table>\n",
       "<p>288 rows × 2 columns</p>\n",
       "</div>"
      ],
      "text/plain": [
       "                  Close  Predictions\n",
       "Date                                \n",
       "2019-08-06  1787.829956  1986.282593\n",
       "2019-08-07  1793.400024  1964.030884\n",
       "2019-08-08  1832.890015  1945.784912\n",
       "2019-08-09  1807.579956  1935.610229\n",
       "2019-08-12  1784.920044  1927.818237\n",
       "...                 ...          ...\n",
       "2020-09-18  2954.909912  3231.993408\n",
       "2020-09-21  2960.469971  3198.004150\n",
       "2020-09-22  3128.989990  3166.702637\n",
       "2020-09-23  2999.860107  3158.281250\n",
       "2020-09-24  3005.179932  3146.993408\n",
       "\n",
       "[288 rows x 2 columns]"
      ]
     },
     "execution_count": 24,
     "metadata": {},
     "output_type": "execute_result"
    }
   ],
   "source": [
    "#show the valid and predicted prices\n",
    "valid"
   ]
  },
  {
   "cell_type": "code",
   "execution_count": 25,
   "metadata": {},
   "outputs": [
    {
     "name": "stdout",
     "output_type": "stream",
     "text": [
      "[[-9.783047]]\n"
     ]
    }
   ],
   "source": [
    "#get the quote\n",
    "apple_quote = web.DataReader('AAPL', data_source='yahoo', start='2015-01-01', end='2018-09-03')\n",
    "# new dataframe creation\n",
    "new_df = apple_quote.filter(['Close'])\n",
    "#getting the last 60 days closing price values & conversion df to np array\n",
    "last_60_days = new_df[-60:].values\n",
    "\n",
    "#data scaling between 0 and 1\n",
    "last_60_days_scaled = scaler.transform(last_60_days)\n",
    "\n",
    "#empty list creation\n",
    "X_test = []\n",
    "#append the 60 past days\n",
    "X_test.append(last_60_days_scaled)\n",
    "#convert to np array\n",
    "X_test = np.array(X_test)\n",
    "#reshaping\n",
    "X_test = np.reshape(X_test, (X_test.shape[0], X_test.shape[1], 1))\n",
    "\n",
    "#get predicted scaled price\n",
    "pred_price = model.predict(X_test)\n",
    "#unscaling\n",
    "pred_price = scaler.inverse_transform(pred_price)\n",
    "print(pred_price)\n"
   ]
  },
  {
   "cell_type": "code",
   "execution_count": 26,
   "metadata": {},
   "outputs": [
    {
     "name": "stdout",
     "output_type": "stream",
     "text": [
      "Date\n",
      "2019-09-03    51.424999\n",
      "Name: Close, dtype: float64\n"
     ]
    }
   ],
   "source": [
    "apple_quote2 = web.DataReader('AAPL', data_source='yahoo', start='2019-09-03', end='2019-09-03')\n",
    "print(apple_quote2['Close'])"
   ]
  },
  {
   "cell_type": "code",
   "execution_count": 27,
   "metadata": {},
   "outputs": [
    {
     "data": {
      "text/plain": [
       "array([[56.90750122]])"
      ]
     },
     "execution_count": 27,
     "metadata": {},
     "output_type": "execute_result"
    }
   ],
   "source": [
    "last_day = new_df[-1:].values\n",
    "last_day"
   ]
  },
  {
   "cell_type": "code",
   "execution_count": 28,
   "metadata": {},
   "outputs": [
    {
     "name": "stdout",
     "output_type": "stream",
     "text": [
      "[[66.69054794]]\n"
     ]
    }
   ],
   "source": [
    "diif = last_day - pred_price\n",
    "print(diif)"
   ]
  },
  {
   "cell_type": "code",
   "execution_count": 29,
   "metadata": {},
   "outputs": [
    {
     "name": "stdout",
     "output_type": "stream",
     "text": [
      "i advise you to buy\n"
     ]
    }
   ],
   "source": [
    "if diif < 0: #hausse\n",
    "    print(\"i advise you to sell\")\n",
    "elif diif > 0: #baisse\n",
    "    print(\"i advise you to buy\")"
   ]
  },
  {
   "cell_type": "markdown",
   "metadata": {},
   "source": [
    "https://towardsdatascience.com/algorithmic-trading-based-on-technical-analysis-in-python-80d445dc6943\n",
    "\n",
    "https://github.com/erykml/medium_articles/blob/master/Quantitative%20Finance/technical_analysis_strategies.ipynb"
   ]
  },
  {
   "cell_type": "code",
   "execution_count": 30,
   "metadata": {},
   "outputs": [],
   "source": [
    "#fixing a threshold\n",
    "\n",
    "\n",
    "\n",
    "\n",
    "\n",
    "#variables initialization\n",
    "buys = []\n",
    "sells = []\n",
    "thresh = 0.1\n",
    "\n",
    "start = 0\n",
    "#end = -1\n",
    "\n",
    "\n",
    "\n",
    "\n",
    "\n",
    "#copy of lists creation? nope?\n",
    "\n"
   ]
  },
  {
   "cell_type": "code",
   "execution_count": null,
   "metadata": {},
   "outputs": [],
   "source": []
  },
  {
   "cell_type": "code",
   "execution_count": null,
   "metadata": {},
   "outputs": [],
   "source": []
  },
  {
   "cell_type": "code",
   "execution_count": 32,
   "metadata": {},
   "outputs": [],
   "source": [
    "import pickle5"
   ]
  },
  {
   "cell_type": "code",
   "execution_count": null,
   "metadata": {},
   "outputs": [],
   "source": [
    "#from zipline.api import order_target, record, symbol, set_commission, order_percent"
   ]
  },
  {
   "cell_type": "code",
   "execution_count": null,
   "metadata": {},
   "outputs": [],
   "source": [
    "#from zipline.finance import commission"
   ]
  },
  {
   "cell_type": "code",
   "execution_count": 33,
   "metadata": {},
   "outputs": [],
   "source": [
    "# save model and architecture to single file\n",
    "model.save(\"AMZN_model.h5\")"
   ]
  },
  {
   "cell_type": "code",
   "execution_count": 34,
   "metadata": {},
   "outputs": [
    {
     "name": "stdout",
     "output_type": "stream",
     "text": [
      "adding_MSFT_AMZN_NFLX_GOOGL_FB.ipynb\r\n",
      "AMZN_model.h5\r\n",
      "build_model_on__AAPL.ipynb\r\n",
      "build_model_on_AAPL.ipynb\r\n",
      "build_model_on_AAPL__merged_cells_4_1st_script.ipynb\r\n",
      "build_model_on_AMZN.ipynb\r\n",
      "build_model_on_GOOGL.ipynb\r\n",
      "build_model_on_MSFT.ipynb\r\n",
      "GOOGL_model.h5\r\n",
      "MSFT_model.h5\r\n",
      "to_solve_installation_conflicts.ipynb\r\n"
     ]
    }
   ],
   "source": [
    "!ls"
   ]
  },
  {
   "cell_type": "code",
   "execution_count": null,
   "metadata": {},
   "outputs": [],
   "source": [
    "!rm model.h5"
   ]
  },
  {
   "cell_type": "code",
   "execution_count": null,
   "metadata": {},
   "outputs": [],
   "source": [
    "!ls"
   ]
  },
  {
   "cell_type": "code",
   "execution_count": null,
   "metadata": {},
   "outputs": [],
   "source": []
  },
  {
   "cell_type": "code",
   "execution_count": null,
   "metadata": {},
   "outputs": [],
   "source": []
  },
  {
   "cell_type": "code",
   "execution_count": null,
   "metadata": {},
   "outputs": [],
   "source": []
  },
  {
   "cell_type": "code",
   "execution_count": null,
   "metadata": {},
   "outputs": [],
   "source": []
  },
  {
   "cell_type": "code",
   "execution_count": null,
   "metadata": {},
   "outputs": [],
   "source": []
  },
  {
   "cell_type": "code",
   "execution_count": null,
   "metadata": {},
   "outputs": [],
   "source": []
  },
  {
   "cell_type": "code",
   "execution_count": null,
   "metadata": {},
   "outputs": [],
   "source": []
  },
  {
   "cell_type": "code",
   "execution_count": null,
   "metadata": {},
   "outputs": [],
   "source": []
  },
  {
   "cell_type": "code",
   "execution_count": null,
   "metadata": {},
   "outputs": [],
   "source": []
  },
  {
   "cell_type": "code",
   "execution_count": null,
   "metadata": {},
   "outputs": [],
   "source": []
  },
  {
   "cell_type": "code",
   "execution_count": null,
   "metadata": {},
   "outputs": [],
   "source": [
    "#conda install -c conda-forge jupyterthemes\n",
    "#!pip3 install jupyterthemes\n",
    "!pip3 install jupyterthemes==0.16.1"
   ]
  },
  {
   "cell_type": "code",
   "execution_count": null,
   "metadata": {},
   "outputs": [],
   "source": [
    "!jt -l #list of themes"
   ]
  },
  {
   "cell_type": "code",
   "execution_count": null,
   "metadata": {},
   "outputs": [],
   "source": [
    "!jt -r\n",
    "#!jt -t onedork  # + refresh the notebook # to switch into dark theme\n",
    "#changing the font:\n",
    "#!jt -t solarizedd -f fira -fs 115\n",
    "#adjusting cell width:\n",
    "#!jt -t chesterish -cellw 90% -lineh 170\n",
    "#cursor width and colour:\n",
    "#!jt -t oceans16 -cursc r -cursw 5\n",
    "#!jt -r  # + refresh the notebook #to restore back"
   ]
  },
  {
   "cell_type": "code",
   "execution_count": null,
   "metadata": {},
   "outputs": [],
   "source": [
    "!jt -t solarized"
   ]
  },
  {
   "cell_type": "code",
   "execution_count": null,
   "metadata": {},
   "outputs": [],
   "source": [
    "#changing the font:\n",
    "#!jt -t solarizedd -f fira -fs 115"
   ]
  },
  {
   "cell_type": "code",
   "execution_count": null,
   "metadata": {},
   "outputs": [],
   "source": [
    "#adjusting cell width:\n",
    "#!jt -t chesterish -cellw 90% -lineh 170"
   ]
  },
  {
   "cell_type": "code",
   "execution_count": null,
   "metadata": {},
   "outputs": [],
   "source": [
    "#cursor width and colour:\n",
    "#!jt -t oceans16 -cursc r -cursw 5"
   ]
  },
  {
   "cell_type": "markdown",
   "metadata": {},
   "source": [
    "Plotting With The Theme\n",
    "\n",
    "The jupyterthemes library also allows you to make appealing visualisation with its submodule jtplot. Import the module and use its style() method to change figure properties.\n",
    "\n",
    "`#import the module\n",
    "from jupyterthemes import jtplot`\n",
    "\n",
    "the style() method can be used to beautify your visualisation"
   ]
  },
  {
   "cell_type": "code",
   "execution_count": null,
   "metadata": {},
   "outputs": [],
   "source": [
    "# another method with import\n",
    "\n",
    "#from jupyterthemes import get_themes\n",
    "#from jupyterthemes.styles import set_rb_theme\n"
   ]
  },
  {
   "cell_type": "code",
   "execution_count": null,
   "metadata": {},
   "outputs": [],
   "source": []
  },
  {
   "cell_type": "code",
   "execution_count": null,
   "metadata": {},
   "outputs": [],
   "source": []
  },
  {
   "cell_type": "code",
   "execution_count": null,
   "metadata": {},
   "outputs": [],
   "source": []
  }
 ],
 "metadata": {
  "kernelspec": {
   "display_name": "Python 3",
   "language": "python",
   "name": "python3"
  },
  "language_info": {
   "codemirror_mode": {
    "name": "ipython",
    "version": 3
   },
   "file_extension": ".py",
   "mimetype": "text/x-python",
   "name": "python",
   "nbconvert_exporter": "python",
   "pygments_lexer": "ipython3",
   "version": "3.7.8"
  }
 },
 "nbformat": 4,
 "nbformat_minor": 4
}
