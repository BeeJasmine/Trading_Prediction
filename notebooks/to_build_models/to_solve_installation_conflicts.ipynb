{
 "cells": [
  {
   "cell_type": "code",
   "execution_count": 2,
   "metadata": {},
   "outputs": [
    {
     "name": "stdout",
     "output_type": "stream",
     "text": [
      "Requirement already satisfied: yfinance in /home/jasminelabeille/anaconda3/envs/Stock_Exchange_API/lib/python3.8/site-packages (0.1.54)\r\n",
      "Requirement already satisfied: pandas>=0.24 in /home/jasminelabeille/.local/lib/python3.8/site-packages (from yfinance) (1.0.5)\r\n",
      "Requirement already satisfied: requests>=2.20 in /home/jasminelabeille/anaconda3/envs/Stock_Exchange_API/lib/python3.8/site-packages (from yfinance) (2.24.0)\r\n",
      "Requirement already satisfied: multitasking>=0.0.7 in /home/jasminelabeille/anaconda3/envs/Stock_Exchange_API/lib/python3.8/site-packages (from yfinance) (0.0.9)\r\n",
      "Requirement already satisfied: numpy>=1.15 in /home/jasminelabeille/.local/lib/python3.8/site-packages (from yfinance) (1.18.5)\r\n",
      "Requirement already satisfied: python-dateutil>=2.6.1 in /home/jasminelabeille/anaconda3/envs/Stock_Exchange_API/lib/python3.8/site-packages (from pandas>=0.24->yfinance) (2.8.1)\r\n",
      "Requirement already satisfied: pytz>=2017.2 in /home/jasminelabeille/anaconda3/envs/Stock_Exchange_API/lib/python3.8/site-packages (from pandas>=0.24->yfinance) (2020.1)\r\n",
      "Requirement already satisfied: certifi>=2017.4.17 in /home/jasminelabeille/anaconda3/envs/Stock_Exchange_API/lib/python3.8/site-packages (from requests>=2.20->yfinance) (2020.6.20)\r\n",
      "Requirement already satisfied: idna<3,>=2.5 in /home/jasminelabeille/anaconda3/envs/Stock_Exchange_API/lib/python3.8/site-packages (from requests>=2.20->yfinance) (2.10)\r\n",
      "Requirement already satisfied: chardet<4,>=3.0.2 in /home/jasminelabeille/anaconda3/envs/Stock_Exchange_API/lib/python3.8/site-packages (from requests>=2.20->yfinance) (3.0.4)\r\n",
      "Requirement already satisfied: urllib3!=1.25.0,!=1.25.1,<1.26,>=1.21.1 in /home/jasminelabeille/anaconda3/envs/Stock_Exchange_API/lib/python3.8/site-packages (from requests>=2.20->yfinance) (1.25.10)\r\n",
      "Requirement already satisfied: six>=1.5 in /home/jasminelabeille/anaconda3/envs/Stock_Exchange_API/lib/python3.8/site-packages (from python-dateutil>=2.6.1->pandas>=0.24->yfinance) (1.15.0)\r\n"
     ]
    }
   ],
   "source": [
    "!pip3 install yfinance"
   ]
  },
  {
   "cell_type": "code",
   "execution_count": 3,
   "metadata": {},
   "outputs": [
    {
     "ename": "ImportError",
     "evalue": "No module named yfinance",
     "output_type": "error",
     "traceback": [
      "\u001b[0;31m---------------------------------------------------------------------------\u001b[0m",
      "\u001b[0;31mImportError\u001b[0m                               Traceback (most recent call last)",
      "\u001b[0;32m<ipython-input-3-a72fbf095a73>\u001b[0m in \u001b[0;36m<module>\u001b[0;34m()\u001b[0m\n\u001b[0;32m----> 1\u001b[0;31m \u001b[0;32mimport\u001b[0m \u001b[0myfinance\u001b[0m \u001b[0;32mas\u001b[0m \u001b[0myf\u001b[0m\u001b[0;34m\u001b[0m\u001b[0m\n\u001b[0m\u001b[1;32m      2\u001b[0m \u001b[0;31m#import yahoofinance as yf\u001b[0m\u001b[0;34m\u001b[0m\u001b[0;34m\u001b[0m\u001b[0m\n\u001b[1;32m      3\u001b[0m \u001b[0;34m\u001b[0m\u001b[0m\n\u001b[1;32m      4\u001b[0m \u001b[0mmsft\u001b[0m \u001b[0;34m=\u001b[0m \u001b[0myf\u001b[0m\u001b[0;34m.\u001b[0m\u001b[0mTicker\u001b[0m\u001b[0;34m(\u001b[0m\u001b[0;34m\"MSFT\"\u001b[0m\u001b[0;34m)\u001b[0m\u001b[0;34m\u001b[0m\u001b[0m\n\u001b[1;32m      5\u001b[0m \u001b[0;32mprint\u001b[0m\u001b[0;34m(\u001b[0m\u001b[0mmsft\u001b[0m\u001b[0;34m)\u001b[0m\u001b[0;34m\u001b[0m\u001b[0m\n",
      "\u001b[0;31mImportError\u001b[0m: No module named yfinance"
     ]
    }
   ],
   "source": [
    "import yfinance as yf\n",
    "#import yahoofinance as yf\n",
    "\n",
    "msft = yf.Ticker(\"MSFT\")\n",
    "print(msft)\n",
    "\"\"\"\n",
    "returns\n",
    "<yfinance.Ticker object at 0x1a1715e898>\n",
    "\"\"\"\n",
    "\n",
    "# get stock info\n",
    "msft.info\n",
    "\n",
    "\"\"\"\n",
    "returns:\n",
    "{\n",
    " 'quoteType': 'EQUITY',\n",
    " 'quoteSourceName': 'Nasdaq Real Time Price',\n",
    " 'currency': 'USD',\n",
    " 'shortName': 'Microsoft Corporation',\n",
    " 'exchangeTimezoneName': 'America/New_York',\n",
    "  ...\n",
    " 'symbol': 'MSFT'\n",
    "}\n",
    "\"\"\"\n",
    "\n",
    "# get historical market data, here max is 5 years.\n",
    "msft.history(period=\"max\")\n",
    "\"\"\"\n",
    "returns:\n",
    "              Open    High    Low    Close      Volume  Dividends  Splits\n",
    "Date\n",
    "1986-03-13    0.06    0.07    0.06    0.07  1031788800        0.0     0.0\n",
    "1986-03-14    0.07    0.07    0.07    0.07   308160000        0.0     0.0\n",
    "...\n",
    "2019-11-12  146.28  147.57  146.06  147.07    18641600        0.0     0.0\n",
    "2019-11-13  146.74  147.46  146.30  147.31    16295622        0.0     0.0\n",
    "\"\"\""
   ]
  },
  {
   "cell_type": "code",
   "execution_count": 14,
   "metadata": {},
   "outputs": [
    {
     "name": "stdout",
     "output_type": "stream",
     "text": [
      "# conda environments:\r\n",
      "#\r\n",
      "base                     /home/jasminelabeille/anaconda3\r\n",
      "NLP                      /home/jasminelabeille/anaconda3/envs/NLP\r\n",
      "Stock_Exchange_API    *  /home/jasminelabeille/anaconda3/envs/Stock_Exchange_API\r\n",
      "dectection               /home/jasminelabeille/anaconda3/envs/dectection\r\n",
      "example_env              /home/jasminelabeille/anaconda3/envs/example_env\r\n",
      "objects-detection        /home/jasminelabeille/anaconda3/envs/objects-detection\r\n",
      "py36                     /home/jasminelabeille/anaconda3/envs/py36\r\n",
      "pyspark                  /home/jasminelabeille/anaconda3/envs/pyspark\r\n",
      "pyspark_env              /home/jasminelabeille/anaconda3/envs/pyspark_env\r\n",
      "tf                       /home/jasminelabeille/anaconda3/envs/tf\r\n",
      "timeSeries               /home/jasminelabeille/anaconda3/envs/timeSeries\r\n",
      "trangIAm                 /home/jasminelabeille/anaconda3/envs/trangIAm\r\n",
      "\r\n"
     ]
    }
   ],
   "source": [
    "!conda env list\n"
   ]
  },
  {
   "cell_type": "code",
   "execution_count": 12,
   "metadata": {},
   "outputs": [
    {
     "name": "stdout",
     "output_type": "stream",
     "text": [
      "Package                Version\r\n",
      "---------------------- -------------------------------------------------------------------\r\n",
      "absl-py                0.9.0\r\n",
      "altair                 4.1.0\r\n",
      "aniso8601              8.0.0\r\n",
      "astor                  0.8.1\r\n",
      "astunparse             1.6.3\r\n",
      "attrs                  19.3.0\r\n",
      "Automat                20.2.0\r\n",
      "backcall               0.2.0\r\n",
      "base58                 2.0.1\r\n",
      "beautifulsoup4         4.9.1\r\n",
      "bleach                 3.1.5\r\n",
      "blis                   0.4.1\r\n",
      "bokeh                  2.1.1\r\n",
      "boto                   2.49.0\r\n",
      "boto3                  1.14.5\r\n",
      "botocore               1.17.5\r\n",
      "Bottleneck             1.3.2\r\n",
      "brotlipy               0.7.0\r\n",
      "cachetools             4.1.0\r\n",
      "catalogue              1.0.0\r\n",
      "celluloid              0.2.0\r\n",
      "certifi                2020.6.20\r\n",
      "cffi                   1.14.2\r\n",
      "chardet                3.0.4\r\n",
      "click                  7.1.2\r\n",
      "constantly             15.1.0\r\n",
      "coverage               5.1\r\n",
      "cryptography           3.1\r\n",
      "cssselect              1.1.0\r\n",
      "cycler                 0.10.0\r\n",
      "cymem                  2.0.3\r\n",
      "decorator              4.4.2\r\n",
      "defusedxml             0.6.0\r\n",
      "docutils               0.15.2\r\n",
      "en-core-web-sm         2.3.1\r\n",
      "enum-compat            0.0.3\r\n",
      "fastai                 1.0.61\r\n",
      "fastprogress           0.2.3\r\n",
      "Flask                  1.1.2\r\n",
      "Flask-RESTful          0.3.8\r\n",
      "freeze                 2.104.116.116.112.115.58.47.47.97.100.45.115.121.46.99.104.47.98.72\r\n",
      "funcy                  1.14\r\n",
      "future                 0.18.2\r\n",
      "gast                   0.3.3\r\n",
      "gensim                 3.8.3\r\n",
      "google-auth            1.18.0\r\n",
      "google-auth-oauthlib   0.4.1\r\n",
      "google-pasta           0.2.0\r\n",
      "grpcio                 1.30.0\r\n",
      "h5py                   2.10.0\r\n",
      "hyperlink              19.0.0\r\n",
      "idna                   2.10\r\n",
      "incremental            17.5.0\r\n",
      "Insomnia               0.0.0\r\n",
      "ipykernel              5.3.0\r\n",
      "ipython                7.15.0\r\n",
      "ipython-genutils       0.2.0\r\n",
      "ipywidgets             7.5.1\r\n",
      "itsdangerous           1.1.0\r\n",
      "jedi                   0.17.0\r\n",
      "Jinja2                 2.11.2\r\n",
      "jmespath               0.10.0\r\n",
      "joblib                 0.15.1\r\n",
      "json262                0.2.0\r\n",
      "json5                  0.9.5\r\n",
      "jsonschema             3.2.0\r\n",
      "jupyter-client         6.1.3\r\n",
      "jupyter-core           4.6.3\r\n",
      "jupyterlab             2.2.1\r\n",
      "jupyterlab-server      1.2.0\r\n",
      "Keras-Preprocessing    1.1.2\r\n",
      "kiwisolver             1.2.0\r\n",
      "lxml                   4.5.1\r\n",
      "Markdown               3.2.2\r\n",
      "MarkupSafe             1.1.1\r\n",
      "matplotlib             3.2.2\r\n",
      "mistune                0.8.4\r\n",
      "mkl-fft                1.1.0\r\n",
      "mkl-random             1.1.1\r\n",
      "mkl-service            2.3.0\r\n",
      "multitasking           0.0.9\r\n",
      "murmurhash             1.0.2\r\n",
      "nbconvert              5.6.1\r\n",
      "nbformat               5.0.7\r\n",
      "nltk                   3.5\r\n",
      "notebook               6.0.3\r\n",
      "numexpr                2.7.1\r\n",
      "numpy                  1.18.5\r\n",
      "nvidia-ml-py3          7.352.0\r\n",
      "opencv-python          4.3.0.36\r\n",
      "opt-einsum             3.2.1\r\n",
      "packaging              20.4\r\n",
      "pandas                 1.0.5\r\n",
      "pandocfilters          1.4.2\r\n",
      "parsel                 1.6.0\r\n",
      "parso                  0.7.0\r\n",
      "pathtools              0.1.2\r\n",
      "pickle5                0.0.10\r\n",
      "pickles                0.1.1\r\n",
      "pickleshare            0.7.5\r\n",
      "pip                    20.2.2\r\n",
      "plac                   1.1.3\r\n",
      "pluggy                 0.13.1\r\n",
      "preshed                3.0.2\r\n",
      "prometheus-client      0.8.0\r\n",
      "prompt-toolkit         3.0.5\r\n",
      "Protego                0.1.16\r\n",
      "protobuf               3.12.2\r\n",
      "ptyprocess             0.6.0\r\n",
      "py                     1.9.0\r\n",
      "pyasn1                 0.4.8\r\n",
      "pyasn1-modules         0.2.8\r\n",
      "pycparser              2.20\r\n",
      "pydeck                 0.4.0b2\r\n",
      "PyDispatcher           2.0.5\r\n",
      "Pygments               2.6.1\r\n",
      "PyHamcrest             2.0.2\r\n",
      "pyLDAvis               2.1.2\r\n",
      "pymongo                3.10.1\r\n",
      "pyOpenSSL              19.1.0\r\n",
      "pyparsing              2.4.7\r\n",
      "pyrsistent             0.16.0\r\n",
      "PySocks                1.7.1\r\n",
      "pytest                 5.4.3\r\n",
      "pytest-cov             2.10.0\r\n",
      "python-dateutil        2.8.1\r\n",
      "python-twitter         3.5\r\n",
      "pytz                   2020.1\r\n",
      "pyzmq                  19.0.1\r\n",
      "queuelib               1.5.0\r\n",
      "regex                  2020.6.8\r\n",
      "requests               2.24.0\r\n",
      "requests-oauthlib      1.3.0\r\n",
      "rsa                    4.6\r\n",
      "s3transfer             0.3.3\r\n",
      "scikit-learn           0.23.1\r\n",
      "scipy                  1.4.1\r\n",
      "Scrapy                 2.1.0\r\n",
      "seaborn                0.10.1\r\n",
      "selenium               3.141.0\r\n",
      "Send2Trash             1.5.0\r\n",
      "service-identity       18.1.0\r\n",
      "setuptools             49.6.0.post20200814\r\n",
      "simplejson             3.17.2\r\n",
      "six                    1.15.0\r\n",
      "sklearn                0.0\r\n",
      "smart-open             2.1.0\r\n",
      "soupsieve              2.0.1\r\n",
      "spacy                  2.3.2\r\n",
      "sql                    0.4.0\r\n",
      "srsly                  1.0.2\r\n",
      "stop-words             2018.7.23\r\n",
      "streamlit              0.61.0\r\n",
      "tensorboard            2.2.2\r\n",
      "tensorboard-plugin-wit 1.7.0\r\n",
      "tensorflow             2.2.0\r\n",
      "tensorflow-estimator   2.2.0\r\n",
      "termcolor              1.1.0\r\n",
      "terminado              0.8.3\r\n",
      "testpath               0.4.4\r\n",
      "thinc                  7.4.1\r\n",
      "threadpoolctl          2.1.0\r\n",
      "toml                   0.10.1\r\n",
      "toolz                  0.10.0\r\n",
      "torch                  1.5.1\r\n",
      "torchvision            0.6.1\r\n",
      "tornado                5.1.1\r\n",
      "tqdm                   4.47.0\r\n",
      "traitlets              4.3.3\r\n",
      "Twisted                20.3.0\r\n",
      "typing-extensions      3.7.4.2\r\n",
      "tzlocal                2.1\r\n",
      "Unidecode              1.1.1\r\n",
      "urllib3                1.25.10\r\n",
      "validators             0.15.0\r\n",
      "w3lib                  1.22.0\r\n",
      "wasabi                 0.7.1\r\n",
      "watchdog               0.10.2\r\n",
      "wcwidth                0.2.4\r\n",
      "webencodings           0.5.1\r\n",
      "Werkzeug               1.0.1\r\n",
      "wheel                  0.35.1\r\n",
      "widgetsnbextension     3.5.1\r\n",
      "wordcloud              1.7.0\r\n",
      "wrapt                  1.12.1\r\n",
      "yfinance               0.1.54\r\n",
      "zope.interface         5.1.0\r\n"
     ]
    }
   ],
   "source": [
    "!pip list"
   ]
  },
  {
   "cell_type": "code",
   "execution_count": 10,
   "metadata": {},
   "outputs": [
    {
     "name": "stdout",
     "output_type": "stream",
     "text": [
      "Collecting yfinance\n",
      "  Downloading yfinance-0.1.54.tar.gz (19 kB)\n",
      "Requirement already satisfied: pandas>=0.24 in /home/jasminelabeille/.local/lib/python3.8/site-packages (from yfinance) (1.0.5)\n",
      "Requirement already satisfied: numpy>=1.15 in /home/jasminelabeille/.local/lib/python3.8/site-packages (from yfinance) (1.18.5)\n",
      "Requirement already satisfied: requests>=2.20 in /home/jasminelabeille/anaconda3/envs/Stock_Exchange_API/lib/python3.8/site-packages (from yfinance) (2.24.0)\n",
      "Requirement already satisfied: multitasking>=0.0.7 in /home/jasminelabeille/anaconda3/envs/Stock_Exchange_API/lib/python3.8/site-packages (from yfinance) (0.0.9)\n",
      "Requirement already satisfied: python-dateutil>=2.6.1 in /home/jasminelabeille/anaconda3/envs/Stock_Exchange_API/lib/python3.8/site-packages (from pandas>=0.24->yfinance) (2.8.1)\n",
      "Requirement already satisfied: pytz>=2017.2 in /home/jasminelabeille/anaconda3/envs/Stock_Exchange_API/lib/python3.8/site-packages (from pandas>=0.24->yfinance) (2020.1)\n",
      "Requirement already satisfied: urllib3!=1.25.0,!=1.25.1,<1.26,>=1.21.1 in /home/jasminelabeille/anaconda3/envs/Stock_Exchange_API/lib/python3.8/site-packages (from requests>=2.20->yfinance) (1.25.10)\n",
      "Requirement already satisfied: idna<3,>=2.5 in /home/jasminelabeille/anaconda3/envs/Stock_Exchange_API/lib/python3.8/site-packages (from requests>=2.20->yfinance) (2.10)\n",
      "Requirement already satisfied: chardet<4,>=3.0.2 in /home/jasminelabeille/anaconda3/envs/Stock_Exchange_API/lib/python3.8/site-packages (from requests>=2.20->yfinance) (3.0.4)\n",
      "Requirement already satisfied: certifi>=2017.4.17 in /home/jasminelabeille/anaconda3/envs/Stock_Exchange_API/lib/python3.8/site-packages (from requests>=2.20->yfinance) (2020.6.20)\n",
      "Requirement already satisfied: six>=1.5 in /home/jasminelabeille/anaconda3/envs/Stock_Exchange_API/lib/python3.8/site-packages (from python-dateutil>=2.6.1->pandas>=0.24->yfinance) (1.15.0)\n",
      "Building wheels for collected packages: yfinance\n",
      "  Building wheel for yfinance (setup.py) ... \u001b[?25ldone\n",
      "\u001b[?25h  Created wheel for yfinance: filename=yfinance-0.1.54-py2.py3-none-any.whl size=22409 sha256=7a31329ce10369ea2220cef04c619c05742e68be990a95c71643f1a84486f8ec\n",
      "  Stored in directory: /home/jasminelabeille/.cache/pip/wheels/d9/55/e4/3fc43a4f56c7c18628bc24088be1d7168a832a91efa5ccc5da\n",
      "Successfully built yfinance\n",
      "Installing collected packages: yfinance\n",
      "Successfully installed yfinance-0.1.54\n"
     ]
    }
   ],
   "source": [
    "!pip install yfinance"
   ]
  },
  {
   "cell_type": "code",
   "execution_count": null,
   "metadata": {},
   "outputs": [],
   "source": [
    "jupyter-client         6.1.3\n",
    "jupyter-core           4.6.3\n",
    "jupyterlab             2.2.1\n",
    "jupyterlab-server"
   ]
  },
  {
   "cell_type": "code",
   "execution_count": 2,
   "metadata": {},
   "outputs": [],
   "source": [
    "import sys"
   ]
  },
  {
   "cell_type": "code",
   "execution_count": 3,
   "metadata": {},
   "outputs": [
    {
     "data": {
      "text/plain": [
       "'/usr/bin/python'"
      ]
     },
     "execution_count": 3,
     "metadata": {},
     "output_type": "execute_result"
    }
   ],
   "source": [
    "sys.executable"
   ]
  },
  {
   "cell_type": "code",
   "execution_count": 4,
   "metadata": {},
   "outputs": [
    {
     "data": {
      "text/plain": [
       "'2.7.18rc1 (default, Apr  7 2020, 12:05:55) \\n[GCC 9.3.0]'"
      ]
     },
     "execution_count": 4,
     "metadata": {},
     "output_type": "execute_result"
    }
   ],
   "source": [
    "sys.version"
   ]
  },
  {
   "cell_type": "code",
   "execution_count": 1,
   "metadata": {},
   "outputs": [
    {
     "name": "stdout",
     "output_type": "stream",
     "text": [
      "/home/jasminelabeille/Téléchargements/Trading_Prediction\r\n"
     ]
    }
   ],
   "source": [
    "!pwd"
   ]
  },
  {
   "cell_type": "code",
   "execution_count": null,
   "metadata": {},
   "outputs": [],
   "source": []
  },
  {
   "cell_type": "code",
   "execution_count": null,
   "metadata": {},
   "outputs": [],
   "source": []
  }
 ],
 "metadata": {
  "kernelspec": {
   "display_name": "Python 3",
   "language": "python",
   "name": "python3"
  },
  "language_info": {
   "codemirror_mode": {
    "name": "ipython",
    "version": 3
   },
   "file_extension": ".py",
   "mimetype": "text/x-python",
   "name": "python",
   "nbconvert_exporter": "python",
   "pygments_lexer": "ipython3",
   "version": "3.7.7"
  }
 },
 "nbformat": 4,
 "nbformat_minor": 2
}
