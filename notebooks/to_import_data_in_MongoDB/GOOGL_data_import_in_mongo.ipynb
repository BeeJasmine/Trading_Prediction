{
 "cells": [
  {
   "cell_type": "code",
   "execution_count": 19,
   "metadata": {},
   "outputs": [],
   "source": [
    "from pandas_datareader import data as pdr\n",
    "import pandas as pd\n",
    "from pymongo import MongoClient\n",
    "import yfinance as yf\n",
    "yf.pdr_override()"
   ]
  },
  {
   "cell_type": "code",
   "execution_count": 20,
   "metadata": {},
   "outputs": [
    {
     "name": "stdout",
     "output_type": "stream",
     "text": [
      "[*********************100%***********************]  1 of 1 completed\n"
     ]
    }
   ],
   "source": [
    "import datetime\n",
    "end = datetime.date.today()\n",
    "data5 = pdr.DataReader('GOOGL', data_source='yahoo', start='2015-01-01', end=end)"
   ]
  },
  {
   "cell_type": "code",
   "execution_count": 21,
   "metadata": {},
   "outputs": [],
   "source": [
    "#Step 1: Connect to MongoDB - Note: Change connection string as needed\n",
    "myclient = MongoClient(\"mongodb://localhost:27017/\")\n",
    "mydb = myclient[\"finance\"]\n",
    "mydb.drop_collection(\"GOOGLE\")\n",
    "GOOGL_col = mydb[\"GOOGL\"]"
   ]
  },
  {
   "cell_type": "code",
   "execution_count": 22,
   "metadata": {},
   "outputs": [
    {
     "data": {
      "text/plain": [
       "Collection(Database(MongoClient(host=['localhost:27017'], document_class=dict, tz_aware=False, connect=True), 'finance'), 'GOOGL')"
      ]
     },
     "execution_count": 22,
     "metadata": {},
     "output_type": "execute_result"
    }
   ],
   "source": [
    "# Step 2: Insert Data into DB\n",
    "data5.reset_index(inplace=True) # Reset Index\n",
    "data_dict = data5.to_dict(\"records\") # Convert to dictionary\n",
    "GOOGL_col.insert_one({\"index\":\"GOOGL\",\"data\":data_dict}) # inesrt into DB\n",
    "GOOGL_col"
   ]
  },
  {
   "cell_type": "code",
   "execution_count": 23,
   "metadata": {
    "scrolled": true
   },
   "outputs": [
    {
     "name": "stdout",
     "output_type": "stream",
     "text": [
      "                   Open         High          Low        Close    Adj Close  \\\n",
      "Date                                                                          \n",
      "2014-12-31   537.739990   538.400024   530.200012   530.659973   530.659973   \n",
      "2015-01-02   532.599976   535.799988   527.880005   529.549988   529.549988   \n",
      "2015-01-05   527.150024   527.989990   517.750000   519.460022   519.460022   \n",
      "2015-01-06   520.500000   521.210022   505.549988   506.640015   506.640015   \n",
      "2015-01-07   510.950012   511.489990   503.649994   505.149994   505.149994   \n",
      "...                 ...          ...          ...          ...          ...   \n",
      "2020-09-02  1668.010010  1726.099976  1660.189941  1717.390015  1717.390015   \n",
      "2020-09-03  1699.520020  1700.000000  1607.709961  1629.510010  1629.510010   \n",
      "2020-09-04  1609.000000  1634.989990  1537.969971  1581.209961  1581.209961   \n",
      "2020-09-08  1525.000000  1555.550049  1516.500000  1523.599976  1523.599976   \n",
      "2020-09-09  1548.900024  1558.719971  1525.170044  1547.229980  1547.229980   \n",
      "\n",
      "             Volume  \n",
      "Date                 \n",
      "2014-12-31  1232400  \n",
      "2015-01-02  1324000  \n",
      "2015-01-05  2059100  \n",
      "2015-01-06  2722800  \n",
      "2015-01-07  2345900  \n",
      "...             ...  \n",
      "2020-09-02  2476100  \n",
      "2020-09-03  3186300  \n",
      "2020-09-04  2792500  \n",
      "2020-09-08  2701600  \n",
      "2020-09-09  1960400  \n",
      "\n",
      "[1433 rows x 6 columns]\n"
     ]
    }
   ],
   "source": [
    "\n",
    "# Step 3: Get data from DB\n",
    "data_from_db = GOOGL_col.find_one({\"index\":\"GOOGL\"})\n",
    "output_dataframe = pd.DataFrame(data_from_db[\"data\"])\n",
    "output_dataframe.set_index(\"Date\",inplace=True)\n",
    "print(output_dataframe)\n"
   ]
  },
  {
   "cell_type": "code",
   "execution_count": null,
   "metadata": {},
   "outputs": [],
   "source": []
  },
  {
   "cell_type": "code",
   "execution_count": null,
   "metadata": {},
   "outputs": [],
   "source": []
  },
  {
   "cell_type": "code",
   "execution_count": null,
   "metadata": {},
   "outputs": [],
   "source": []
  },
  {
   "cell_type": "code",
   "execution_count": null,
   "metadata": {},
   "outputs": [],
   "source": []
  },
  {
   "cell_type": "code",
   "execution_count": null,
   "metadata": {},
   "outputs": [],
   "source": []
  },
  {
   "cell_type": "code",
   "execution_count": 18,
   "metadata": {},
   "outputs": [
    {
     "name": "stdout",
     "output_type": "stream",
     "text": [
      "Enter database name: finance\n",
      "FB\n",
      "MSFT\n",
      "NFLX\n",
      "AMZN\n",
      "AAPL\n",
      "GOOGL\n"
     ]
    }
   ],
   "source": [
    "import pymongo\n",
    "\n",
    "myclient = pymongo.MongoClient(\"mongodb://localhost:27017/\")\n",
    "\n",
    "dbname = input(\"Enter database name: \")\n",
    "mydb = myclient[dbname]\n",
    "\n",
    "#list the collections\n",
    "for coll in mydb.list_collection_names():\n",
    "    print(coll)"
   ]
  },
  {
   "cell_type": "code",
   "execution_count": null,
   "metadata": {},
   "outputs": [],
   "source": []
  }
 ],
 "metadata": {
  "kernelspec": {
   "display_name": "Python 3",
   "language": "python",
   "name": "python3"
  },
  "language_info": {
   "codemirror_mode": {
    "name": "ipython",
    "version": 3
   },
   "file_extension": ".py",
   "mimetype": "text/x-python",
   "name": "python",
   "nbconvert_exporter": "python",
   "pygments_lexer": "ipython3",
   "version": "3.7.7"
  }
 },
 "nbformat": 4,
 "nbformat_minor": 4
}
