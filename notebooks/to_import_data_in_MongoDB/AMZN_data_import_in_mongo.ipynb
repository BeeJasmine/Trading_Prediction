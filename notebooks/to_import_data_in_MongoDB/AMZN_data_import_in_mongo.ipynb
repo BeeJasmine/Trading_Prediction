{
 "cells": [
  {
   "cell_type": "code",
   "execution_count": 3,
   "metadata": {},
   "outputs": [],
   "source": [
    "from pandas_datareader import data as pdr\n",
    "import pandas as pd\n",
    "from pymongo import MongoClient\n",
    "import yfinance as yf\n",
    "import datetime\n",
    "yf.pdr_override()"
   ]
  },
  {
   "cell_type": "code",
   "execution_count": 4,
   "metadata": {},
   "outputs": [
    {
     "name": "stdout",
     "output_type": "stream",
     "text": [
      "[*********************100%***********************]  1 of 1 completed\n"
     ]
    }
   ],
   "source": [
    "end = datetime.date.today()\n",
    "data3 = pdr.DataReader('AMZN', data_source='yahoo', start='2015-01-01', end=end)"
   ]
  },
  {
   "cell_type": "code",
   "execution_count": 5,
   "metadata": {},
   "outputs": [],
   "source": [
    "#Step 1: Connect to MongoDB - Note: Change connection string as needed\n",
    "myclient = MongoClient(\"mongodb://localhost:27017/\")\n",
    "mydb = myclient[\"finance\"]\n",
    "mydb.drop_collection('AMZN')\n",
    "AMZN_col = mydb[\"AMZN\"]"
   ]
  },
  {
   "cell_type": "code",
   "execution_count": 6,
   "metadata": {},
   "outputs": [
    {
     "data": {
      "text/plain": [
       "<pymongo.results.InsertOneResult at 0x7f1992954500>"
      ]
     },
     "execution_count": 6,
     "metadata": {},
     "output_type": "execute_result"
    }
   ],
   "source": [
    "# Step 2: Insert Data into DB\n",
    "data3.reset_index(inplace=True) # Reset Index\n",
    "data_dict = data3.to_dict(\"records\") # Convert to dictionary\n",
    "AMZN_col.insert_one({\"index\":\"AMZN\",\"data\":data_dict}) # inesrt into DB\n",
    "#AAPL_col"
   ]
  },
  {
   "cell_type": "code",
   "execution_count": 7,
   "metadata": {},
   "outputs": [
    {
     "name": "stdout",
     "output_type": "stream",
     "text": [
      "                   Open         High          Low        Close    Adj Close  \\\n",
      "Date                                                                          \n",
      "2014-12-31   311.549988   312.980011   310.010010   310.350006   310.350006   \n",
      "2015-01-02   312.579987   314.750000   306.959991   308.519989   308.519989   \n",
      "2015-01-05   307.010010   308.380005   300.850006   302.190002   302.190002   \n",
      "2015-01-06   302.239990   303.000000   292.380005   295.290009   295.290009   \n",
      "2015-01-07   297.500000   301.279999   295.329987   298.420013   298.420013   \n",
      "...                 ...          ...          ...          ...          ...   \n",
      "2020-09-02  3547.000000  3552.250000  3486.689941  3531.449951  3531.449951   \n",
      "2020-09-03  3485.000000  3488.409912  3303.000000  3368.000000  3368.000000   \n",
      "2020-09-04  3318.000000  3381.500000  3111.129883  3294.620117  3294.620117   \n",
      "2020-09-08  3144.000000  3250.850098  3130.000000  3149.840088  3149.840088   \n",
      "2020-09-09  3202.989990  3303.179932  3185.000000  3268.610107  3268.610107   \n",
      "\n",
      "             Volume  \n",
      "Date                 \n",
      "2014-12-31  2048000  \n",
      "2015-01-02  2783200  \n",
      "2015-01-05  2774200  \n",
      "2015-01-06  3519000  \n",
      "2015-01-07  2640300  \n",
      "...             ...  \n",
      "2020-09-02  3931500  \n",
      "2020-09-03  8161100  \n",
      "2020-09-04  8781800  \n",
      "2020-09-08  6094200  \n",
      "2020-09-09  5173200  \n",
      "\n",
      "[1433 rows x 6 columns]\n"
     ]
    }
   ],
   "source": [
    "\n",
    "# Step 3: Get data from DB\n",
    "data_from_db = AMZN_col.find_one({\"index\":\"AMZN\"})\n",
    "output_dataframe = pd.DataFrame(data_from_db[\"data\"])\n",
    "output_dataframe.set_index(\"Date\",inplace=True)\n",
    "print(output_dataframe)\n"
   ]
  },
  {
   "cell_type": "code",
   "execution_count": null,
   "metadata": {},
   "outputs": [],
   "source": []
  },
  {
   "cell_type": "code",
   "execution_count": null,
   "metadata": {},
   "outputs": [],
   "source": []
  },
  {
   "cell_type": "code",
   "execution_count": null,
   "metadata": {},
   "outputs": [],
   "source": []
  },
  {
   "cell_type": "code",
   "execution_count": null,
   "metadata": {},
   "outputs": [],
   "source": []
  },
  {
   "cell_type": "code",
   "execution_count": null,
   "metadata": {},
   "outputs": [],
   "source": []
  },
  {
   "cell_type": "code",
   "execution_count": 7,
   "metadata": {},
   "outputs": [
    {
     "name": "stdout",
     "output_type": "stream",
     "text": [
      "Enter database name: finance\n",
      "AAPL\n",
      "MSFT\n",
      "AMZN\n"
     ]
    }
   ],
   "source": [
    "import pymongo\n",
    "\n",
    "myclient = pymongo.MongoClient(\"mongodb://localhost:27017/\")\n",
    "\n",
    "dbname = input(\"Enter database name: \")\n",
    "mydb = myclient[dbname]\n",
    "\n",
    "#list the collections\n",
    "for coll in mydb.list_collection_names():\n",
    "    print(coll)"
   ]
  },
  {
   "cell_type": "code",
   "execution_count": null,
   "metadata": {},
   "outputs": [],
   "source": []
  }
 ],
 "metadata": {
  "kernelspec": {
   "display_name": "Python 3",
   "language": "python",
   "name": "python3"
  },
  "language_info": {
   "codemirror_mode": {
    "name": "ipython",
    "version": 3
   },
   "file_extension": ".py",
   "mimetype": "text/x-python",
   "name": "python",
   "nbconvert_exporter": "python",
   "pygments_lexer": "ipython3",
   "version": "3.7.7"
  }
 },
 "nbformat": 4,
 "nbformat_minor": 4
}
