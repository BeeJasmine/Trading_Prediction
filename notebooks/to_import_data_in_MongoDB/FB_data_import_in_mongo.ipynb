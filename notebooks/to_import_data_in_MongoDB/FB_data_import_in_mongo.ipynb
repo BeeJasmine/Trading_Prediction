{
 "cells": [
  {
   "cell_type": "code",
   "execution_count": 2,
   "metadata": {},
   "outputs": [],
   "source": [
    "from pandas_datareader import data as pdr\n",
    "import pandas as pd\n",
    "from pymongo import MongoClient\n",
    "import yfinance as yf\n",
    "import datetime\n",
    "yf.pdr_override()"
   ]
  },
  {
   "cell_type": "code",
   "execution_count": 3,
   "metadata": {},
   "outputs": [
    {
     "name": "stdout",
     "output_type": "stream",
     "text": [
      "[*********************100%***********************]  1 of 1 completed\n"
     ]
    }
   ],
   "source": [
    "end = datetime.date.today()\n",
    "\n",
    "data6 = pdr.DataReader('FB', data_source='yahoo', start='2015-01-01', end=end)"
   ]
  },
  {
   "cell_type": "code",
   "execution_count": 6,
   "metadata": {},
   "outputs": [],
   "source": [
    "#Step 1: Connect to MongoDB - Note: Change connection string as needed\n",
    "myclient = MongoClient(\"mongodb://localhost:27017/\")\n",
    "mydb = myclient[\"finance\"]\n",
    "mydb.drop_collection(\"FB\")\n",
    "FB_col = mydb[\"FB\"]"
   ]
  },
  {
   "cell_type": "code",
   "execution_count": 7,
   "metadata": {},
   "outputs": [
    {
     "data": {
      "text/plain": [
       "Collection(Database(MongoClient(host=['localhost:27017'], document_class=dict, tz_aware=False, connect=True), 'finance'), 'FB')"
      ]
     },
     "execution_count": 7,
     "metadata": {},
     "output_type": "execute_result"
    }
   ],
   "source": [
    "# Step 2: Insert Data into DB\n",
    "data6.reset_index(inplace=True) # Reset Index\n",
    "data_dict = data6.to_dict(\"records\") # Convert to dictionary\n",
    "FB_col.insert_one({\"index\":\"FB\",\"data\":data_dict}) # inesrt into DB\n",
    "FB_col"
   ]
  },
  {
   "cell_type": "code",
   "execution_count": 8,
   "metadata": {},
   "outputs": [
    {
     "name": "stdout",
     "output_type": "stream",
     "text": [
      "                  Open        High         Low       Close   Adj Close  \\\n",
      "Date                                                                     \n",
      "2014-12-31   79.540001   79.800003   77.860001   78.019997   78.019997   \n",
      "2015-01-02   78.580002   78.930000   77.699997   78.449997   78.449997   \n",
      "2015-01-05   77.980003   79.250000   76.860001   77.190002   77.190002   \n",
      "2015-01-06   77.230003   77.589996   75.360001   76.150002   76.150002   \n",
      "2015-01-07   76.760002   77.360001   75.820000   76.150002   76.150002   \n",
      "...                ...         ...         ...         ...         ...   \n",
      "2020-09-02  298.880005  303.600006  293.049988  302.500000  302.500000   \n",
      "2020-09-03  295.989990  297.600006  283.630005  291.119995  291.119995   \n",
      "2020-09-04  287.250000  289.000000  271.140015  282.730011  282.730011   \n",
      "2020-09-08  271.279999  279.299988  269.420013  271.160004  271.160004   \n",
      "2020-09-09  275.769989  278.480011  271.350006  273.720001  273.720001   \n",
      "\n",
      "              Volume  \n",
      "Date                  \n",
      "2014-12-31  19935400  \n",
      "2015-01-02  18177500  \n",
      "2015-01-05  26452200  \n",
      "2015-01-06  27399300  \n",
      "2015-01-07  22045300  \n",
      "...              ...  \n",
      "2020-09-02  24341400  \n",
      "2020-09-03  32294100  \n",
      "2020-09-04  30333700  \n",
      "2020-09-08  24864000  \n",
      "2020-09-09  22878000  \n",
      "\n",
      "[1433 rows x 6 columns]\n"
     ]
    }
   ],
   "source": [
    "\n",
    "# Step 3: Get data from DB\n",
    "data_from_db = FB_col.find_one({\"index\":\"FB\"})\n",
    "output_dataframe = pd.DataFrame(data_from_db[\"data\"])\n",
    "output_dataframe.set_index(\"Date\",inplace=True)\n",
    "print(output_dataframe)\n"
   ]
  },
  {
   "cell_type": "code",
   "execution_count": null,
   "metadata": {},
   "outputs": [],
   "source": []
  },
  {
   "cell_type": "code",
   "execution_count": null,
   "metadata": {},
   "outputs": [],
   "source": []
  },
  {
   "cell_type": "code",
   "execution_count": null,
   "metadata": {},
   "outputs": [],
   "source": []
  },
  {
   "cell_type": "code",
   "execution_count": null,
   "metadata": {},
   "outputs": [],
   "source": []
  },
  {
   "cell_type": "code",
   "execution_count": null,
   "metadata": {},
   "outputs": [],
   "source": []
  },
  {
   "cell_type": "code",
   "execution_count": 6,
   "metadata": {},
   "outputs": [
    {
     "name": "stdout",
     "output_type": "stream",
     "text": [
      "Enter database name: finance\n",
      "AAPL\n",
      "MSFT\n",
      "NFLX\n",
      "GOOGL\n",
      "AMZN\n",
      "FB\n"
     ]
    }
   ],
   "source": [
    "import pymongo\n",
    "\n",
    "myclient = pymongo.MongoClient(\"mongodb://localhost:27017/\")\n",
    "\n",
    "dbname = input(\"Enter database name: \")\n",
    "mydb = myclient[dbname]\n",
    "\n",
    "#list the collections\n",
    "for coll in mydb.list_collection_names():\n",
    "    print(coll)"
   ]
  },
  {
   "cell_type": "code",
   "execution_count": null,
   "metadata": {},
   "outputs": [],
   "source": []
  }
 ],
 "metadata": {
  "kernelspec": {
   "display_name": "Python 3",
   "language": "python",
   "name": "python3"
  },
  "language_info": {
   "codemirror_mode": {
    "name": "ipython",
    "version": 3
   },
   "file_extension": ".py",
   "mimetype": "text/x-python",
   "name": "python",
   "nbconvert_exporter": "python",
   "pygments_lexer": "ipython3",
   "version": "3.7.8"
  }
 },
 "nbformat": 4,
 "nbformat_minor": 4
}
