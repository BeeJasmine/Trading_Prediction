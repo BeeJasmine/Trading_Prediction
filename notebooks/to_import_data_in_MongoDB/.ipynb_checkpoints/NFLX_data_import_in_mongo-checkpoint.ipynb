{
 "cells": [
  {
   "cell_type": "code",
   "execution_count": 26,
   "metadata": {},
   "outputs": [],
   "source": [
    "from pandas_datareader import data as pdr\n",
    "import pandas as pd\n",
    "from pymongo import MongoClient\n",
    "import yfinance as yf\n",
    "yf.pdr_override()"
   ]
  },
  {
   "cell_type": "code",
   "execution_count": 27,
   "metadata": {},
   "outputs": [
    {
     "name": "stdout",
     "output_type": "stream",
     "text": [
      "[*********************100%***********************]  1 of 1 completed\n"
     ]
    }
   ],
   "source": [
    "import datetime\n",
    "end = datetime.date.today()\n",
    "\n",
    "data4 = pdr.DataReader('NFLX', data_source='yahoo', start='2015-01-01', end=end)"
   ]
  },
  {
   "cell_type": "code",
   "execution_count": 28,
   "metadata": {},
   "outputs": [],
   "source": [
    "#Step 1: Connect to MongoDB - Note: Change connection string as needed\n",
    "myclient = MongoClient(\"mongodb://localhost:27017/\")\n",
    "mydb = myclient[\"finance\"]\n",
    "#mydb.drop_collection(\"NFLX\")\n",
    "NFLX_col = mydb[\"NFLX\"]"
   ]
  },
  {
   "cell_type": "code",
   "execution_count": 29,
   "metadata": {},
   "outputs": [
    {
     "data": {
      "text/plain": [
       "<pymongo.results.InsertOneResult at 0x7f2114846280>"
      ]
     },
     "execution_count": 29,
     "metadata": {},
     "output_type": "execute_result"
    }
   ],
   "source": [
    "# Step 2: Insert Data into DB\n",
    "data4.reset_index(inplace=True) # Reset Index\n",
    "data_dict = data4.to_dict(\"records\") # Convert to dictionary\n",
    "NFLX_col.insert_one({\"index\":\"NFLX\",\"data\":data_dict}) # inesrt into DB\n",
    "#AAPL_col"
   ]
  },
  {
   "cell_type": "code",
   "execution_count": 30,
   "metadata": {
    "scrolled": true
   },
   "outputs": [
    {
     "name": "stdout",
     "output_type": "stream",
     "text": [
      "                  Open        High         Low       Close   Adj Close  \\\n",
      "Date                                                                     \n",
      "2014-12-31   49.032856   49.391430   48.787144   48.801430   48.801430   \n",
      "2015-01-02   49.151428   50.331429   48.731430   49.848572   49.848572   \n",
      "2015-01-05   49.258572   49.258572   47.147144   47.311428   47.311428   \n",
      "2015-01-06   47.347141   47.639999   45.661430   46.501427   46.501427   \n",
      "2015-01-07   47.347141   47.421429   46.271427   46.742859   46.742859   \n",
      "...                ...         ...         ...         ...         ...   \n",
      "2020-09-02  553.780029  556.500000  537.369995  552.840027  552.840027   \n",
      "2020-09-03  545.000000  554.000000  521.320007  525.750000  525.750000   \n",
      "2020-09-04  520.179993  527.359985  485.980011  516.049988  516.049988   \n",
      "2020-09-08  498.399994  522.000000  495.000000  507.019989  507.019989   \n",
      "2020-09-09  519.210022  520.000000  492.570007  500.190002  500.190002   \n",
      "\n",
      "              Volume  \n",
      "Date                  \n",
      "2014-12-31   8627500  \n",
      "2015-01-02  13475000  \n",
      "2015-01-05  18165000  \n",
      "2015-01-06  16037700  \n",
      "2015-01-07   9849700  \n",
      "...              ...  \n",
      "2020-09-02   5886900  \n",
      "2020-09-03   9071100  \n",
      "2020-09-04   8270100  \n",
      "2020-09-08   5572700  \n",
      "2020-09-09   6837900  \n",
      "\n",
      "[1433 rows x 6 columns]\n"
     ]
    }
   ],
   "source": [
    "\n",
    "# Step 3: Get data from DB\n",
    "data_from_db = NFLX_col.find_one({\"index\":\"NFLX\"})\n",
    "output_dataframe = pd.DataFrame(data_from_db[\"data\"])\n",
    "output_dataframe.set_index(\"Date\",inplace=True)\n",
    "print(output_dataframe)\n"
   ]
  },
  {
   "cell_type": "code",
   "execution_count": null,
   "metadata": {},
   "outputs": [],
   "source": []
  },
  {
   "cell_type": "code",
   "execution_count": null,
   "metadata": {},
   "outputs": [],
   "source": []
  },
  {
   "cell_type": "code",
   "execution_count": null,
   "metadata": {},
   "outputs": [],
   "source": []
  },
  {
   "cell_type": "code",
   "execution_count": null,
   "metadata": {},
   "outputs": [],
   "source": []
  },
  {
   "cell_type": "code",
   "execution_count": null,
   "metadata": {},
   "outputs": [],
   "source": []
  },
  {
   "cell_type": "code",
   "execution_count": 6,
   "metadata": {},
   "outputs": [
    {
     "name": "stdout",
     "output_type": "stream",
     "text": [
      "Enter database name: finance\n",
      "AAPL\n",
      "MSFT\n",
      "NFLX\n",
      "AMZN\n"
     ]
    }
   ],
   "source": [
    "import pymongo\n",
    "\n",
    "myclient = pymongo.MongoClient(\"mongodb://localhost:27017/\")\n",
    "\n",
    "dbname = input(\"Enter database name: \")\n",
    "mydb = myclient[dbname]\n",
    "\n",
    "#list the collections\n",
    "for coll in mydb.list_collection_names():\n",
    "    print(coll)"
   ]
  },
  {
   "cell_type": "code",
   "execution_count": null,
   "metadata": {},
   "outputs": [],
   "source": []
  }
 ],
 "metadata": {
  "kernelspec": {
   "display_name": "Python 3",
   "language": "python",
   "name": "python3"
  },
  "language_info": {
   "codemirror_mode": {
    "name": "ipython",
    "version": 3
   },
   "file_extension": ".py",
   "mimetype": "text/x-python",
   "name": "python",
   "nbconvert_exporter": "python",
   "pygments_lexer": "ipython3",
   "version": "3.7.7"
  }
 },
 "nbformat": 4,
 "nbformat_minor": 4
}
