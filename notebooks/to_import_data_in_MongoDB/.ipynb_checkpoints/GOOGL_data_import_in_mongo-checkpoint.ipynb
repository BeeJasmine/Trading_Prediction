{
 "cells": [
  {
   "cell_type": "code",
   "execution_count": 6,
   "metadata": {},
   "outputs": [],
   "source": [
    "from pandas_datareader import data as pdr\n",
    "import pandas as pd\n",
    "from pymongo import MongoClient\n",
    "import yfinance as yf\n",
    "yf.pdr_override()"
   ]
  },
  {
   "cell_type": "code",
   "execution_count": 7,
   "metadata": {},
   "outputs": [
    {
     "name": "stdout",
     "output_type": "stream",
     "text": [
      "[*********************100%***********************]  1 of 1 completed\n"
     ]
    }
   ],
   "source": [
    "import datetime\n",
    "end = datetime.date.today()\n",
    "data5 = pdr.DataReader('GOOGL', data_source='yahoo', start='2015-01-01', end=end)"
   ]
  },
  {
   "cell_type": "code",
   "execution_count": 8,
   "metadata": {},
   "outputs": [],
   "source": [
    "#Step 1: Connect to MongoDB - Note: Change connection string as needed\n",
    "myclient = MongoClient(\"mongodb://localhost:27017/\")\n",
    "mydb = myclient[\"finance\"]\n",
    "mydb.drop_collection(\"GOOGLE\")\n",
    "GOOGL_col = mydb[\"GOOGL\"]"
   ]
  },
  {
   "cell_type": "code",
   "execution_count": 9,
   "metadata": {},
   "outputs": [
    {
     "data": {
      "text/plain": [
       "Collection(Database(MongoClient(host=['localhost:27017'], document_class=dict, tz_aware=False, connect=True), 'finance'), 'GOOGL')"
      ]
     },
     "execution_count": 9,
     "metadata": {},
     "output_type": "execute_result"
    }
   ],
   "source": [
    "# Step 2: Insert Data into DB\n",
    "data5.reset_index(inplace=True) # Reset Index\n",
    "data_dict = data5.to_dict(\"records\") # Convert to dictionary\n",
    "GOOGL_col.insert_one({\"index\":\"GOOGL\",\"data\":data_dict}) # inesrt into DB\n",
    "GOOGL_col"
   ]
  },
  {
   "cell_type": "code",
   "execution_count": 10,
   "metadata": {},
   "outputs": [
    {
     "name": "stdout",
     "output_type": "stream",
     "text": [
      "                   Open         High          Low        Close    Adj Close  \\\n",
      "Date                                                                          \n",
      "2014-12-31   537.739990   538.400024   530.200012   530.659973   530.659973   \n",
      "2015-01-02   532.599976   535.799988   527.880005   529.549988   529.549988   \n",
      "2015-01-05   527.150024   527.989990   517.750000   519.460022   519.460022   \n",
      "2015-01-06   520.500000   521.210022   505.549988   506.640015   506.640015   \n",
      "2015-01-07   510.950012   511.489990   503.649994   505.149994   505.149994   \n",
      "...                 ...          ...          ...          ...          ...   \n",
      "2020-08-27  1646.609985  1647.989990  1618.810059  1628.520020  1628.520020   \n",
      "2020-08-28  1629.469971  1641.349976  1625.609985  1639.430054  1639.430054   \n",
      "2020-08-31  1643.569946  1644.500000  1625.329956  1629.530029  1629.530029   \n",
      "2020-09-01  1632.160034  1659.219971  1629.530029  1655.079956  1655.079956   \n",
      "2020-09-02  1668.010010  1726.099976  1660.189941  1717.390015  1717.390015   \n",
      "\n",
      "             Volume  \n",
      "Date                 \n",
      "2014-12-31  1232400  \n",
      "2015-01-02  1324000  \n",
      "2015-01-05  2059100  \n",
      "2015-01-06  2722800  \n",
      "2015-01-07  2345900  \n",
      "...             ...  \n",
      "2020-08-27  1567500  \n",
      "2020-08-28  1120900  \n",
      "2020-08-31  1321100  \n",
      "2020-09-01  1133800  \n",
      "2020-09-02  2476100  \n",
      "\n",
      "[1429 rows x 6 columns]\n"
     ]
    }
   ],
   "source": [
    "\n",
    "# Step 3: Get data from DB\n",
    "data_from_db = GOOGL_col.find_one({\"index\":\"GOOGL\"})\n",
    "output_dataframe = pd.DataFrame(data_from_db[\"data\"])\n",
    "output_dataframe.set_index(\"Date\",inplace=True)\n",
    "print(output_dataframe)\n"
   ]
  },
  {
   "cell_type": "code",
   "execution_count": null,
   "metadata": {},
   "outputs": [],
   "source": []
  },
  {
   "cell_type": "code",
   "execution_count": null,
   "metadata": {},
   "outputs": [],
   "source": []
  },
  {
   "cell_type": "code",
   "execution_count": null,
   "metadata": {},
   "outputs": [],
   "source": []
  },
  {
   "cell_type": "code",
   "execution_count": null,
   "metadata": {},
   "outputs": [],
   "source": []
  },
  {
   "cell_type": "code",
   "execution_count": null,
   "metadata": {},
   "outputs": [],
   "source": []
  },
  {
   "cell_type": "code",
   "execution_count": 6,
   "metadata": {},
   "outputs": [
    {
     "name": "stdout",
     "output_type": "stream",
     "text": [
      "Enter database name: finance\n",
      "AAPL\n",
      "MSFT\n",
      "NFLX\n",
      "GOOGL\n",
      "AMZN\n"
     ]
    }
   ],
   "source": [
    "import pymongo\n",
    "\n",
    "myclient = pymongo.MongoClient(\"mongodb://localhost:27017/\")\n",
    "\n",
    "dbname = input(\"Enter database name: \")\n",
    "mydb = myclient[dbname]\n",
    "\n",
    "#list the collections\n",
    "for coll in mydb.list_collection_names():\n",
    "    print(coll)"
   ]
  },
  {
   "cell_type": "code",
   "execution_count": null,
   "metadata": {},
   "outputs": [],
   "source": []
  }
 ],
 "metadata": {
  "kernelspec": {
   "display_name": "Python 3",
   "language": "python",
   "name": "python3"
  },
  "language_info": {
   "codemirror_mode": {
    "name": "ipython",
    "version": 3
   },
   "file_extension": ".py",
   "mimetype": "text/x-python",
   "name": "python",
   "nbconvert_exporter": "python",
   "pygments_lexer": "ipython3",
   "version": "3.7.7"
  }
 },
 "nbformat": 4,
 "nbformat_minor": 4
}
