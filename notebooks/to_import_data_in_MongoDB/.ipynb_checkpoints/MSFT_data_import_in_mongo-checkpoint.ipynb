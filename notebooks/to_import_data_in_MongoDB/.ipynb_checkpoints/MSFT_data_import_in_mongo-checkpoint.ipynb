{
 "cells": [
  {
   "cell_type": "code",
   "execution_count": 1,
   "metadata": {},
   "outputs": [],
   "source": [
    "from pandas_datareader import data as pdr\n",
    "import pandas as pd\n",
    "from pymongo import MongoClient\n",
    "import yfinance as yf\n",
    "yf.pdr_override()"
   ]
  },
  {
   "cell_type": "code",
   "execution_count": 2,
   "metadata": {},
   "outputs": [
    {
     "name": "stdout",
     "output_type": "stream",
     "text": [
      "[*********************100%***********************]  1 of 1 completed\n"
     ]
    }
   ],
   "source": [
    "import datetime\n",
    "end = datetime.date.today()\n",
    "\n",
    "data2 = pdr.DataReader('MSFT', data_source='yahoo', start='2015-01-01', end=end)"
   ]
  },
  {
   "cell_type": "code",
   "execution_count": 3,
   "metadata": {},
   "outputs": [],
   "source": [
    "#Step 1: Connect to MongoDB - Note: Change connection string as needed\n",
    "myclient = MongoClient(\"mongodb://localhost:27017/\")\n",
    "mydb = myclient[\"finance\"]\n",
    "mydb.drop_collection(\"MSFT\")\n",
    "MSFT_col = mydb[\"MSFT\"]"
   ]
  },
  {
   "cell_type": "code",
   "execution_count": 4,
   "metadata": {},
   "outputs": [
    {
     "data": {
      "text/plain": [
       "<pymongo.results.InsertOneResult at 0x7fb5aae9a730>"
      ]
     },
     "execution_count": 4,
     "metadata": {},
     "output_type": "execute_result"
    }
   ],
   "source": [
    "# Step 2: Insert Data into DB\n",
    "data2.reset_index(inplace=True) # Reset Index\n",
    "data_dict = data2.to_dict(\"records\") # Convert to dictionary\n",
    "MSFT_col.insert_one({\"index\":\"MSFT\",\"data\":data_dict}) # inesrt into DB"
   ]
  },
  {
   "cell_type": "code",
   "execution_count": 5,
   "metadata": {},
   "outputs": [
    {
     "name": "stdout",
     "output_type": "stream",
     "text": [
      "                  Open        High         Low       Close   Adj Close  \\\n",
      "Date                                                                     \n",
      "2014-12-31   46.730000   47.439999   46.450001   46.450001   41.371773   \n",
      "2015-01-02   46.660000   47.419998   46.540001   46.759998   41.647892   \n",
      "2015-01-05   46.369999   46.730000   46.250000   46.330002   41.264908   \n",
      "2015-01-06   46.380001   46.750000   45.540001   45.650002   40.659245   \n",
      "2015-01-07   45.980000   46.459999   45.490002   46.230000   41.175831   \n",
      "...                ...         ...         ...         ...         ...   \n",
      "2020-09-02  227.970001  232.860001  227.350006  231.649994  231.649994   \n",
      "2020-09-03  229.270004  229.309998  214.960007  217.300003  217.300003   \n",
      "2020-09-04  215.100006  218.360001  205.190002  214.250000  214.250000   \n",
      "2020-09-08  206.500000  210.029999  202.199997  202.660004  202.660004   \n",
      "2020-09-09  207.600006  214.839996  206.699997  211.289993  211.289993   \n",
      "\n",
      "              Volume  \n",
      "Date                  \n",
      "2014-12-31  21552500  \n",
      "2015-01-02  27913900  \n",
      "2015-01-05  39673900  \n",
      "2015-01-06  36447900  \n",
      "2015-01-07  29114100  \n",
      "...              ...  \n",
      "2020-09-02  34080800  \n",
      "2020-09-03  58400300  \n",
      "2020-09-04  59664100  \n",
      "2020-09-08  52924300  \n",
      "2020-09-09  45582200  \n",
      "\n",
      "[1433 rows x 6 columns]\n"
     ]
    }
   ],
   "source": [
    "\n",
    "# Step 3: Get data from DB\n",
    "data_from_db = MSFT_col.find_one({\"index\":\"MSFT\"})\n",
    "output_dataframe = pd.DataFrame(data_from_db[\"data\"])\n",
    "output_dataframe.set_index(\"Date\",inplace=True)\n",
    "print(output_dataframe)\n"
   ]
  },
  {
   "cell_type": "code",
   "execution_count": null,
   "metadata": {},
   "outputs": [],
   "source": []
  },
  {
   "cell_type": "code",
   "execution_count": null,
   "metadata": {},
   "outputs": [],
   "source": []
  },
  {
   "cell_type": "code",
   "execution_count": null,
   "metadata": {},
   "outputs": [],
   "source": []
  },
  {
   "cell_type": "code",
   "execution_count": null,
   "metadata": {},
   "outputs": [],
   "source": []
  },
  {
   "cell_type": "code",
   "execution_count": null,
   "metadata": {},
   "outputs": [],
   "source": []
  },
  {
   "cell_type": "code",
   "execution_count": 19,
   "metadata": {},
   "outputs": [
    {
     "name": "stdout",
     "output_type": "stream",
     "text": [
      "Enter database name: finance\n",
      "AAPL\n",
      "MSFT\n"
     ]
    }
   ],
   "source": [
    "import pymongo\n",
    "\n",
    "myclient = pymongo.MongoClient(\"mongodb://localhost:27017/\")\n",
    "\n",
    "dbname = input(\"Enter database name: \")\n",
    "mydb = myclient[dbname]\n",
    "\n",
    "#list the collections\n",
    "for coll in mydb.list_collection_names():\n",
    "    print(coll)"
   ]
  },
  {
   "cell_type": "code",
   "execution_count": null,
   "metadata": {},
   "outputs": [],
   "source": []
  }
 ],
 "metadata": {
  "kernelspec": {
   "display_name": "Python 3",
   "language": "python",
   "name": "python3"
  },
  "language_info": {
   "codemirror_mode": {
    "name": "ipython",
    "version": 3
   },
   "file_extension": ".py",
   "mimetype": "text/x-python",
   "name": "python",
   "nbconvert_exporter": "python",
   "pygments_lexer": "ipython3",
   "version": "3.7.7"
  }
 },
 "nbformat": 4,
 "nbformat_minor": 4
}
