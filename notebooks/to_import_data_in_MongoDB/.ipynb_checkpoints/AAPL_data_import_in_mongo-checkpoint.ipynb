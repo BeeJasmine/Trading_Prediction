{
 "cells": [
  {
   "cell_type": "code",
   "execution_count": 14,
   "metadata": {},
   "outputs": [],
   "source": [
    "from pandas_datareader import data as web\n",
    "import pandas as pd\n",
    "from pymongo import MongoClient\n",
    "import yfinance as yf\n",
    "yf.pdr_override()"
   ]
  },
  {
   "cell_type": "code",
   "execution_count": 15,
   "metadata": {},
   "outputs": [
    {
     "name": "stdout",
     "output_type": "stream",
     "text": [
      "[*********************100%***********************]  1 of 1 completed\n"
     ]
    }
   ],
   "source": [
    "import datetime\n",
    "end = datetime.date.today()\n",
    "\n",
    "data1 = web.DataReader('AAPL', data_source='yahoo', start='2015-01-01', end=end)"
   ]
  },
  {
   "cell_type": "code",
   "execution_count": 16,
   "metadata": {},
   "outputs": [],
   "source": [
    "#Step 1: Connect to MongoDB - Note: Change connection string as needed\n",
    "myclient = MongoClient(\"mongodb://localhost:27017/\")\n",
    "mydb = myclient[\"finance\"]\n",
    "mydb.dorp_collection(\"AAPL\")\n",
    "AAPL_col = mydb[\"AAPL\"]"
   ]
  },
  {
   "cell_type": "code",
   "execution_count": 17,
   "metadata": {},
   "outputs": [
    {
     "data": {
      "text/plain": [
       "<pymongo.results.InsertOneResult at 0x7f0bbaa62c30>"
      ]
     },
     "execution_count": 17,
     "metadata": {},
     "output_type": "execute_result"
    }
   ],
   "source": [
    "# Step 2: Insert Data into DB\n",
    "data1.reset_index(inplace=True) # Reset Index\n",
    "data_dict = data1.to_dict(\"records\") # Convert to dictionary\n",
    "AAPL_col.insert_one({\"index\":\"AAPL\",\"data\":data_dict}) # inesrt into DB\n"
   ]
  },
  {
   "cell_type": "code",
   "execution_count": 18,
   "metadata": {},
   "outputs": [
    {
     "name": "stdout",
     "output_type": "stream",
     "text": [
      "                  Open        High         Low       Close   Adj Close  \\\n",
      "Date                                                                     \n",
      "2014-12-31   28.205000   28.282499   27.552500   27.594999   25.181044   \n",
      "2015-01-02   27.847500   27.860001   26.837500   27.332500   24.941502   \n",
      "2015-01-05   27.072500   27.162500   26.352501   26.562500   24.238857   \n",
      "2015-01-06   26.635000   26.857500   26.157499   26.565001   24.241146   \n",
      "2015-01-07   26.799999   27.049999   26.674999   26.937500   24.581060   \n",
      "...                ...         ...         ...         ...         ...   \n",
      "2020-09-02  137.589996  137.979996  127.000000  131.399994  131.399994   \n",
      "2020-09-03  126.910004  128.839996  120.500000  120.879997  120.879997   \n",
      "2020-09-04  120.070000  123.699997  110.889999  120.959999  120.959999   \n",
      "2020-09-08  113.949997  118.989998  112.680000  112.820000  112.820000   \n",
      "2020-09-09  117.260002  119.139999  115.260002  117.320000  117.320000   \n",
      "\n",
      "               Volume  \n",
      "Date                   \n",
      "2014-12-31  165613600  \n",
      "2015-01-02  212818400  \n",
      "2015-01-05  257142000  \n",
      "2015-01-06  263188400  \n",
      "2015-01-07  160423600  \n",
      "...               ...  \n",
      "2020-09-02  200119000  \n",
      "2020-09-03  257599600  \n",
      "2020-09-04  332607200  \n",
      "2020-09-08  231366600  \n",
      "2020-09-09  176276400  \n",
      "\n",
      "[1433 rows x 6 columns]\n"
     ]
    }
   ],
   "source": [
    "\n",
    "# Step 3: Get data from DB\n",
    "data_from_db = AAPL_col.find_one({\"index\":\"AAPL\"})\n",
    "output_dataframe = pd.DataFrame(data_from_db[\"data\"])\n",
    "output_dataframe.set_index(\"Date\",inplace=True)\n",
    "print(output_dataframe)\n"
   ]
  },
  {
   "cell_type": "code",
   "execution_count": null,
   "metadata": {},
   "outputs": [],
   "source": []
  },
  {
   "cell_type": "code",
   "execution_count": null,
   "metadata": {},
   "outputs": [],
   "source": []
  }
 ],
 "metadata": {
  "kernelspec": {
   "display_name": "Python 3",
   "language": "python",
   "name": "python3"
  },
  "language_info": {
   "codemirror_mode": {
    "name": "ipython",
    "version": 3
   },
   "file_extension": ".py",
   "mimetype": "text/x-python",
   "name": "python",
   "nbconvert_exporter": "python",
   "pygments_lexer": "ipython3",
   "version": "3.7.7"
  }
 },
 "nbformat": 4,
 "nbformat_minor": 4
}
